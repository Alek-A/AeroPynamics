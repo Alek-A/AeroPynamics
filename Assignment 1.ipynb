{
 "cells": [
  {
   "cell_type": "markdown",
   "metadata": {
    "deletable": true,
    "editable": true
   },
   "source": [
    "# Assignment 1\n",
    "46110 Basic Aerodynamics  \n",
    "\n",
    "s163008 Martin Simon  \n",
    "s134166 Aleksander Andersen\n",
    "\n",
    "Python Notebook"
   ]
  },
  {
   "cell_type": "code",
   "execution_count": 1,
   "metadata": {
    "collapsed": false,
    "deletable": true,
    "editable": true
   },
   "outputs": [],
   "source": [
    "# Modules\n",
    "import numpy as np\n",
    "from scipy import interpolate\n",
    "import matplotlib.pyplot as plt\n",
    "%matplotlib inline"
   ]
  },
  {
   "cell_type": "markdown",
   "metadata": {
    "deletable": true,
    "editable": true
   },
   "source": [
    "# Task A\n",
    "Determine $\\dfrac{m_1}{c}$ and $\\dfrac{m_2}{c}$ for the Joukowski airfoil with relative (to chord) thicknesses of 10%, 20% and 30% and maximum camber 0% and 10%.  \n",
    "Also try to do this with the linearized approach from the book."
   ]
  },
  {
   "cell_type": "markdown",
   "metadata": {
    "deletable": true,
    "editable": true
   },
   "source": [
    "Numerical approach:  \n",
    "Transformation: $z = \\zeta+\\dfrac{c^2}{\\zeta}$  \n"
   ]
  },
  {
   "cell_type": "markdown",
   "metadata": {
    "deletable": true,
    "editable": true
   },
   "source": [
    "Max thickness: $\\dfrac{t}{c}\\bigg) _{max}$  \n",
    "Max camber: $\\dfrac{h}{c}\\bigg) _{max}$  \n",
    "Just take thickness as be the difference in y-values so $t=y_u-y_l$  \n",
    "With the camber line: $h = \\dfrac{y_y+y_l}{2}$"
   ]
  },
  {
   "cell_type": "code",
   "execution_count": null,
   "metadata": {
    "collapsed": false,
    "deletable": true,
    "editable": true
   },
   "outputs": [],
   "source": [
    "## Box not relevant\n",
    "#R = 1\n",
    "#N = 2**9 # EVEN number\n",
    "#x_start, x_end = -5.0, 5.0        # boundaries for x-dir.\n",
    "#y_start, y_end = -5.0, 5.0        # boundaries for y-dir.\n",
    "#x_ar = np.linspace(x_start, x_end, N)    #\n",
    "#y_ar = np.linspace(y_start, y_end, N)\n",
    "#x, y = np.meshgrid(x_ar,y_ar)               # meshes grid\n",
    "#\n",
    "## Complex mesh plane\n",
    "#z = x+1j*y\n",
    "#\n",
    "## Exclusion of points inside circle\n",
    "#for i in range(N):\n",
    "#    for j in range(N):\n",
    "#        if abs(z[i,j])<= (R-5e-3):\n",
    "#            z[i,j] = complex(float('nan'),float('nan'))\n",
    "##z = z[None,:,:]"
   ]
  },
  {
   "cell_type": "code",
   "execution_count": 3,
   "metadata": {
    "collapsed": false,
    "deletable": true,
    "editable": true
   },
   "outputs": [],
   "source": [
    "# Some parameters\n",
    "R = 1.0 # Radius of transformation circle\n",
    "\n",
    "N = 2**9 # EVEN number. Number of points on airfoil\n",
    "\n",
    "M1 = 200\n",
    "M2 = 200\n",
    "n_tests = int(M1*M2) # Number of tests\n",
    "\n",
    "R = 1. # Radius of transformation circle \n",
    "# Various values for m1/c and m2/c\n",
    "m1oc = np.linspace(0, 0.4, M1) \n",
    "m2oc = np.linspace(0, 0.4, M2)\n",
    "\n",
    "## Testing the different values\n",
    "\n",
    "# Empty array to fill in\n",
    "r_t = np.array([]) # max relative thickness\n",
    "r_c = np.array([]) # max relative camber\n",
    "r_m1oc = np.array([]) # m1oc value\n",
    "r_m2oc = np.array([]) # m2oc value\n",
    "\n",
    "angle = np.linspace(0, 2*np.pi, N) \n",
    "\n",
    "# Actual testing\n",
    "for i in range(M1):\n",
    "    for j in range(M2):\n",
    "        c = R/np.sqrt(m2oc[j]**2+(1+m1oc[i])**2)\n",
    "        c2 = c**2\n",
    "        m1 = m1oc[i]*c\n",
    "        m2 = m2oc[j]*c\n",
    "        s = -m1 + 1j*m2 # center of circle in zeta\n",
    "        #J = z+c2/z # Joukowski transformation of all points\n",
    "        \n",
    "        # coord. for circle periphery\n",
    "        z_circle = R*(np.cos(angle)+1j*np.sin(angle)) + s\n",
    "        \n",
    "        # coord. for airfoil periphery (J-transform of circle)\n",
    "        z_airfoil = z_circle+c2/z_circle\n",
    "        \n",
    "        chord = np.max(z_airfoil.real) - np.min(z_airfoil.real)\n",
    "        \n",
    "        # Find index for leading and trailing edge points\n",
    "        leftMostPoint = np.argmin(z_airfoil.real)\n",
    "        rightMostPoint = np.argmax(z_airfoil.real)        \n",
    "        \n",
    "        # Splitting into upper and lower part of airfoil\n",
    "        if rightMostPoint == 0:\n",
    "            za_upper = z_airfoil[:leftMostPoint]\n",
    "            za_lower = z_airfoil[leftMostPoint:]\n",
    "        else:\n",
    "            _a = z_airfoil[(rightMostPoint-N):]\n",
    "            za_upper = np.concatenate((_a, z_airfoil[:leftMostPoint]))\n",
    "            za_lower = z_airfoil[leftMostPoint:rightMostPoint]\n",
    "\n",
    "        # Interpolation functions for upper and lower airfoil curves\n",
    "        fu = interpolate.interp1d(za_upper.real,za_upper.imag, kind='linear',bounds_error=False)\n",
    "        fl = interpolate.interp1d(za_lower.real,za_lower.imag, kind='linear',bounds_error=False)\n",
    "        \n",
    "        # Limit values for interpolation.\n",
    "        # Edge values are removed to avoid any errors\n",
    "        lim1 = np.min( z_airfoil.real )*0.95\n",
    "        lim2 = np.max( z_airfoil.real )*0.95\n",
    "        # Evaluation points\n",
    "        span = np.linspace(lim1,lim2,400)\n",
    "        \n",
    "        \n",
    "        # Finding max relative thickness\n",
    "        max_t = np.max( (fu(span) - fl(span))/chord )\n",
    "        # Max relative camber\n",
    "        max_camber = np.max( (fu(span)+fl(span))/2 )\n",
    "        \n",
    "        # Save result\n",
    "        r_t = np.append(r_t, max_t)\n",
    "        r_c = np.append(r_c, max_camber)\n",
    "        r_m1oc = np.append(r_m1oc, m1oc[i])\n",
    "        r_m2oc = np.append(r_m2oc, m2oc[j])"
   ]
  },
  {
   "cell_type": "code",
   "execution_count": 4,
   "metadata": {
    "collapsed": false
   },
   "outputs": [],
   "source": [
    "# Save data to files\n",
    "np.savetxt('maxRelThickness.txt',r_t)\n",
    "np.savetxt('maxRelCamber.txt',r_c)\n",
    "np.savetxt('m1oc.txt',r_m1oc)\n",
    "np.savetxt('m2oc.txt',r_m2oc)"
   ]
  },
  {
   "cell_type": "code",
   "execution_count": 5,
   "metadata": {
    "collapsed": false
   },
   "outputs": [
    {
     "data": {
      "image/png": "[encoded data removed]",
      "text/plain": [
       "<matplotlib.figure.Figure at 0x113961198>"
      ]
     },
     "metadata": {},
     "output_type": "display_data"
    },
    {
     "data": {
      "image/png": "[encoded data removed]",
      "text/plain": [
       "<matplotlib.figure.Figure at 0x11087a710>"
      ]
     },
     "metadata": {},
     "output_type": "display_data"
    }
   ],
   "source": [
    "plt.figure()\n",
    "plt.plot(r_t,'-b')\n",
    "plt.xlabel('Point #')\n",
    "plt.ylabel('Max relative thickness, t/chord')\n",
    "plt.grid()\n",
    "plt.tight_layout()\n",
    "plt.savefig('01_J_rt.pdf')\n",
    "\n",
    "plt.figure()\n",
    "plt.plot(r_c,'-r')\n",
    "plt.xlabel('Point #')\n",
    "plt.ylabel('Max relative camber, h/chord')\n",
    "plt.grid()\n",
    "plt.tight_layout()\n",
    "plt.savefig('02_J_rh.pdf')"
   ]
  },
  {
   "cell_type": "markdown",
   "metadata": {},
   "source": [
    "### Results for part A"
   ]
  },
  {
   "cell_type": "code",
   "execution_count": 9,
   "metadata": {
    "collapsed": false,
    "scrolled": true
   },
   "outputs": [
    {
     "name": "stdout",
     "output_type": "stream",
     "text": [
      "8400\n",
      "t: 0.100975414471\n",
      "h: 1.2490009027e-16\n",
      "(m1oc, m2oc) = (0.0844, 0.0000)\n"
     ]
    }
   ],
   "source": [
    "# Relative camber 0%\n",
    "# Relative thickness 10%\n",
    "camberVal = 0\n",
    "thickVal = 0.1\n",
    "for i in range(r_t.size):\n",
    "    if r_c[i] < 0.00001:\n",
    "        if thickVal+0.001 > r_t[i] > thickVal-0.001:\n",
    "            print(i)\n",
    "            print('t:',r_t[i])\n",
    "            print('h:',r_c[i])\n",
    "            print('(m1oc, m2oc) = ({0:.4f}, {1:.4f})'.format(r_m1oc[i], r_m2oc[i]))"
   ]
  },
  {
   "cell_type": "code",
   "execution_count": 13,
   "metadata": {
    "collapsed": false
   },
   "outputs": [
    {
     "name": "stdout",
     "output_type": "stream",
     "text": [
      "18200\n",
      "t: 0.19966854897\n",
      "h: 1.2490009027e-16\n",
      "(m1oc, m2oc) = (0.1829, 0.0000)\n"
     ]
    }
   ],
   "source": [
    "# Relative camber 0%\n",
    "# Relative thickness 20%\n",
    "camberVal = 0\n",
    "thickVal = 0.2\n",
    "for i in range(r_t.size):\n",
    "    if r_c[i] < 0.0001:\n",
    "        if thickVal+0.001 > r_t[i] > thickVal-0.001:\n",
    "            print(i)\n",
    "            print('t:',r_t[i])\n",
    "            print('h:',r_c[i])\n",
    "            print('(m1oc, m2oc) = ({0:.4f}, {1:.4f})'.format(r_m1oc[i], r_m2oc[i]))"
   ]
  },
  {
   "cell_type": "code",
   "execution_count": 14,
   "metadata": {
    "collapsed": false
   },
   "outputs": [
    {
     "name": "stdout",
     "output_type": "stream",
     "text": [
      "30400\n",
      "t: 0.299846278332\n",
      "h: 1.11022302463e-16\n",
      "(m1oc, m2oc) = (0.3055, 0.0000)\n"
     ]
    }
   ],
   "source": [
    "# Relative camber 0%\n",
    "# Relative thickness 30%\n",
    "camberVal = 0\n",
    "thickVal = 0.3\n",
    "for i in range(r_t.size):\n",
    "    if r_c[i] < 0.0001:\n",
    "        if thickVal+0.001 > r_t[i] > thickVal-0.001:\n",
    "            print(i)\n",
    "            print('t:',r_t[i])\n",
    "            print('h:',r_c[i])\n",
    "            print('(m1oc, m2oc) = ({0:.4f}, {1:.4f})'.format(r_m1oc[i], r_m2oc[i]))"
   ]
  },
  {
   "cell_type": "code",
   "execution_count": 20,
   "metadata": {
    "collapsed": false,
    "deletable": true,
    "editable": true
   },
   "outputs": [
    {
     "name": "stdout",
     "output_type": "stream",
     "text": [
      "8231\n",
      "t: 0.0990037374396\n",
      "h: 0.10680871039\n",
      "(m1oc, m2oc) = (0.0824, 0.0623)\n"
     ]
    }
   ],
   "source": [
    "# Relative camber 10%\n",
    "# Relative thickness 10%\n",
    "camberVal = 0.1\n",
    "thickVal = 0.1\n",
    "for i in range(r_t.size):\n",
    "    if 0.09 < r_c[i] <= 0.11:\n",
    "        if thickVal+0.001 > r_t[i] > thickVal-0.001:\n",
    "            print(i)\n",
    "            print('t:',r_t[i])\n",
    "            print('h:',r_c[i])\n",
    "            print('(m1oc, m2oc) = ({0:.4f}, {1:.4f})'.format(r_m1oc[i], r_m2oc[i]))"
   ]
  },
  {
   "cell_type": "code",
   "execution_count": 27,
   "metadata": {
    "collapsed": false
   },
   "outputs": [
    {
     "name": "stdout",
     "output_type": "stream",
     "text": [
      "18234\n",
      "t: 0.200143632843\n",
      "h: 0.099904238356\n",
      "(m1oc, m2oc) = (0.1829, 0.0683)\n"
     ]
    }
   ],
   "source": [
    "# Relative camber 10%\n",
    "# Relative thickness 20%\n",
    "camberVal = 0.1\n",
    "thickVal = 0.2\n",
    "for i in range(r_t.size):\n",
    "    if camberVal-0.0001 < r_c[i] <= camberVal+0.0001:\n",
    "        if thickVal+0.001 > r_t[i] > thickVal-0.001:\n",
    "            print(i)\n",
    "            print('t:',r_t[i])\n",
    "            print('h:',r_c[i])\n",
    "            print('(m1oc, m2oc) = ({0:.4f}, {1:.4f})'.format(r_m1oc[i], r_m2oc[i]))"
   ]
  },
  {
   "cell_type": "code",
   "execution_count": 31,
   "metadata": {
    "collapsed": false
   },
   "outputs": [
    {
     "name": "stdout",
     "output_type": "stream",
     "text": [
      "30240\n",
      "t: 0.299132189699\n",
      "h: 0.0998706788362\n",
      "(m1oc, m2oc) = (0.3035, 0.0804)\n",
      "30440\n",
      "t: 0.300604380861\n",
      "h: 0.0996214662651\n",
      "(m1oc, m2oc) = (0.3055, 0.0804)\n"
     ]
    }
   ],
   "source": [
    "# Relative camber 10%\n",
    "# Relative thickness 30%\n",
    "camberVal = 0.1\n",
    "thickVal = 0.3\n",
    "for i in range(r_t.size):\n",
    "    if camberVal-0.001 < r_c[i] < camberVal+0.001:\n",
    "        if thickVal+0.001 > r_t[i] > thickVal-0.001:\n",
    "            print(i)\n",
    "            print('t:',r_t[i])\n",
    "            print('h:',r_c[i])\n",
    "            print('(m1oc, m2oc) = ({0:.4f}, {1:.4f})'.format(r_m1oc[i], r_m2oc[i]))"
   ]
  },
  {
   "cell_type": "code",
   "execution_count": null,
   "metadata": {
    "collapsed": false
   },
   "outputs": [],
   "source": []
  },
  {
   "cell_type": "markdown",
   "metadata": {
    "collapsed": true
   },
   "source": [
    "# Task B\n",
    "Karman-Trefftz transformation.  \n",
    "$\\dfrac{z-nc}{z+nc} = \\left(\\dfrac{\\zeta-c}{\\zeta+c}\\right)^n$  \n",
    "\n",
    "$z=n{\\dfrac  {\\left(1+{\\dfrac  {1}{\\zeta }}\\right)^{n}+\\left(1-{\\dfrac  {1}{\\zeta }}\\right)^{n}}{\\left(1+{\\dfrac  {1}{\\zeta }}\\right)^{n}-\\left(1-{\\dfrac{1}{\\zeta }}\\right)^{n}}}$ --- Wrong ??"
   ]
  },
  {
   "cell_type": "markdown",
   "metadata": {},
   "source": [
    "$z = \\left(\\dfrac{\\zeta-c}{\\zeta+c}\\right)^n z + \\left(\\dfrac{\\zeta-c}{\\zeta+c}\\right)^n nc$  \n",
    "$z\\left[1-\\left(\\dfrac{\\zeta-c}{\\zeta+c}\\right)^n\\right] = \\left(\\dfrac{\\zeta-c}{\\zeta+c}\\right)^n nc$  \n",
    "$z = nc \\left(\\dfrac{\\zeta-c}{\\zeta+c}\\right)^n \\left[1-\\left(\\dfrac{\\zeta-c}{\\zeta+c}\\right)^n\\right]^{-1} = \\dfrac{nc \\, (\\zeta-c)^n}{(\\zeta+c)^n - (\\zeta-c)^n}$"
   ]
  },
  {
   "cell_type": "markdown",
   "metadata": {},
   "source": [
    "B.1  \n",
    "Karman-Trefftz transformation for trailing edge angle $\\beta$ = 18°.  \n",
    "$\\beta=2\\pi-n\\pi \\leftrightarrow n=2-\\beta/\\pi$"
   ]
  },
  {
   "cell_type": "code",
   "execution_count": null,
   "metadata": {
    "collapsed": false
   },
   "outputs": [],
   "source": [
    "# Parameters\n",
    "alphad = 0 # angle of attack\n",
    "betad = 18 # trailing edge angle\n",
    "\n",
    "R = 1. # Radius of transformation circle\n",
    "\n",
    "# Calculations on parameters\n",
    "theta_str = str(alphad)+'°'\n",
    "alpha = alphad*np.pi/180\n",
    "beta = betad*np.pi/180\n",
    "#c = R/np.sqrt(m2oc**2+(1+m1oc)**2)\n",
    "c2 = c**2\n",
    "#chord = 4*c\n",
    "#m1 = m1oc*c\n",
    "#m2 = m2oc*c\n",
    "#s = -m1 + 1j*m2\n",
    "\n",
    "# Karman Trefftz parameter for 18° TEA\n",
    "n_kt = 2-beta/np.pi\n",
    "print('Kármán-Trefftz parameter for 18° trailing edge angle \\nn= {:.2f}'.format(n_kt))"
   ]
  },
  {
   "cell_type": "code",
   "execution_count": null,
   "metadata": {
    "collapsed": true
   },
   "outputs": [],
   "source": [
    "N = 2**9 # EVEN number\n",
    "x_start, x_end = -5.0, 5.0        # boundaries for x-dir.\n",
    "y_start, y_end = -5.0, 5.0        # boundaries for y-dir.\n",
    "x_ar = np.linspace(x_start, x_end, N)    #\n",
    "y_ar = np.linspace(y_start, y_end, N)\n",
    "x, y = np.meshgrid(x_ar,y_ar)               # meshes grid\n",
    "\n",
    "# Complex mesh plane\n",
    "z = x+1j*y\n",
    "\n",
    "# Exclusion of points inside circle\n",
    "for i in range(N):\n",
    "    for j in range(N):\n",
    "        if abs(z[i,j])<= (R-5e-3):\n",
    "            z[i,j] = complex(float('nan'),float('nan'))\n",
    "#z = z[None,:,:]"
   ]
  },
  {
   "cell_type": "code",
   "execution_count": null,
   "metadata": {
    "collapsed": false,
    "scrolled": false
   },
   "outputs": [],
   "source": [
    "# Number of points to test for m1oc, m2oc\n",
    "M1 = 40\n",
    "M2 = 40\n",
    "n_tests = int(M1*M2) # Number of tests\n",
    "\n",
    "# Various values for m1/c and m2/c\n",
    "m1oc = np.linspace(0, 0.32, M1) \n",
    "m2oc = np.linspace(0, 0.32, M2)\n",
    "\n",
    "## Testing the different values\n",
    "\n",
    "# Empty array to fill in\n",
    "r_t = np.array([]) # max relative thickness\n",
    "r_c = np.array([]) # max relative camber\n",
    "r_m1oc = np.array([]) # m1oc value\n",
    "r_m2oc = np.array([]) # m2oc value\n",
    "\n",
    "angle = np.linspace(0, 2*np.pi, N) \n",
    "\n",
    "#fig1,ax1 = plt.subplots()\n",
    "#fig2,ax2 = plt.subplots()\n",
    "\n",
    "# Actual testing\n",
    "for i in range(M1):\n",
    "    for j in range(M2):\n",
    "        c = R/np.sqrt(m2oc[j]**2+(1+m1oc[i])**2)\n",
    "        c2 = c**2\n",
    "        m1 = m1oc[i]*c\n",
    "        m2 = m2oc[j]*c\n",
    "        s = -m1 + 1j*m2 # center of circle in zeta\n",
    "        \n",
    "        # Coord.: Circle periphery\n",
    "        z_circle = R*(np.cos(angle)+1j*np.sin(angle)) + s\n",
    "        \n",
    "        # Coord.: Airfoil periphery (KT-transform of circle)\n",
    "        #z_airfoil = ((1+1/z_circle)**n_kt + (1-1/z_circle)**n_kt) / (((1+1/z_circle)**n_kt - (1-1/z_circle)**n_kt) )\n",
    "        z_airfoil = (z_circle-c)**n_kt * n_kt*c/( (z_circle+c)**n_kt - (z_circle-c)**n_kt )\n",
    "        \n",
    "        # Chord length as the distance along the real axis.\n",
    "        chord = np.max(z_airfoil.real) - np.min(z_airfoil.real)\n",
    "        \n",
    "        leftMostPoint = np.argmin(z_airfoil.real)\n",
    "        rightMostPoint = np.argmax(z_airfoil.real)        \n",
    "        \n",
    "        if rightMostPoint == 0:\n",
    "            za_upper = z_airfoil[:leftMostPoint]\n",
    "            za_lower = z_airfoil[leftMostPoint:]\n",
    "        else:\n",
    "            _a = z_airfoil[(rightMostPoint-N):]\n",
    "            za_upper = np.concatenate((_a, z_airfoil[:leftMostPoint]))\n",
    "            za_lower = z_airfoil[leftMostPoint:rightMostPoint]\n",
    "        \n",
    "\n",
    "        \n",
    "        # Upper part of airfoil (from right to left)\n",
    "        #za_upper = z_airfoil[(N-leftMostPoint):]\n",
    "        #za_upper = za_upper[::-1] # Reversing array order\n",
    "        \n",
    "        # Lower part of airfoil (left to right)\n",
    "        #za_lower = z_airfoil[(leftMostPoint+1):]\n",
    "\n",
    "        # Interpolation functions for upper and lower airfoil curve\n",
    "        fu = interpolate.interp1d(za_upper.real,za_upper.imag, kind='linear',bounds_error=False)\n",
    "        fl = interpolate.interp1d(za_lower.real,za_lower.imag, kind='linear',bounds_error=False)\n",
    "        \n",
    "        # Limit values for interpolation.\n",
    "        # Edge values are removed to avoid any errors\n",
    "        lim1 = np.min( z_airfoil.real )*0.95\n",
    "        lim2 = np.max( z_airfoil.real )*0.95\n",
    "        # Evaluation points\n",
    "        span = np.linspace(lim1,lim2,200)\n",
    "        \n",
    "        \n",
    "        # Finding max relative thickness\n",
    "        max_t = np.max( (fu(span) - fl(span))/chord )\n",
    "        max_camber = np.max( (fu(span)+fl(span))/2 )\n",
    "        \n",
    "        # Save result\n",
    "        r_t = np.append(r_t, max_t)\n",
    "        r_c = np.append(r_c, max_camber)\n",
    "        r_m1oc = np.append(r_m1oc, m1oc[i])\n",
    "        r_m2oc = np.append(r_m2oc, m2oc[j])\n",
    "        \n",
    "        # Plotting\n",
    "        \n",
    "        #if i%2==0 and j%2==0:\n",
    "            #ax1.plot(z_circle.real, z_circle.imag,'-')\n",
    "            #ax1.set_aspect('equal')\n",
    "            #ax2.plot(z_airfoil.real, z_airfoil.imag,'-',label=[i,j])\n",
    "            #ax2.set_aspect('equal')\n",
    "            \n",
    "            # X-Y limits for zooming in on trailing edge\n",
    "            #ax2.set_xlim(-0.01,0.01)\n",
    "            #ax2.set_ylim(-0.01,0.01)"
   ]
  },
  {
   "cell_type": "code",
   "execution_count": null,
   "metadata": {
    "collapsed": false,
    "deletable": true,
    "editable": true
   },
   "outputs": [],
   "source": [
    "plt.plot(z_circle.real, z_circle.imag,'.')"
   ]
  },
  {
   "cell_type": "code",
   "execution_count": null,
   "metadata": {
    "collapsed": false,
    "deletable": true,
    "editable": true
   },
   "outputs": [],
   "source": [
    "plt.plot(z_airfoil.real, z_airfoil.imag,'o')"
   ]
  },
  {
   "cell_type": "code",
   "execution_count": null,
   "metadata": {
    "collapsed": false,
    "deletable": true,
    "editable": true
   },
   "outputs": [],
   "source": [
    "\n",
    "# Print and plot if within tolerance.\n",
    "ind = np.argmax((fu(span) - fl(span))/chord) # index in span\n",
    "print('trel: {0:.5f} - m/c= ({1:.3f}, {2:.3f})'.format(max_trel, m1oc[i], m2oc[j]))\n",
    "plt.plot(span,fu(span),'.-b')\n",
    "plt.plot(span,fl(span),'.-r')\n",
    "plt.plot(span[ind],fu(span[ind]),'ro',ms=5)\n",
    "plt.plot(span[ind],fl(span[ind]),'bo',ms=5)"
   ]
  },
  {
   "cell_type": "code",
   "execution_count": null,
   "metadata": {
    "collapsed": false
   },
   "outputs": [],
   "source": [
    "g = np.linspace(0,10,11,endpoint=True)\n",
    "print(g)"
   ]
  },
  {
   "cell_type": "code",
   "execution_count": null,
   "metadata": {
    "collapsed": false
   },
   "outputs": [],
   "source": [
    "g[::1]"
   ]
  },
  {
   "cell_type": "code",
   "execution_count": null,
   "metadata": {
    "collapsed": false
   },
   "outputs": [],
   "source": [
    "np.hstack(([5],[2,3]))"
   ]
  },
  {
   "cell_type": "code",
   "execution_count": null,
   "metadata": {
    "collapsed": false
   },
   "outputs": [],
   "source": [
    "z_airfoil"
   ]
  },
  {
   "cell_type": "code",
   "execution_count": null,
   "metadata": {
    "collapsed": false
   },
   "outputs": [],
   "source": [
    "z_airfoil.real"
   ]
  },
  {
   "cell_type": "code",
   "execution_count": null,
   "metadata": {
    "collapsed": false
   },
   "outputs": [],
   "source": [
    "np.argmin(z_airfoil.real)"
   ]
  },
  {
   "cell_type": "code",
   "execution_count": null,
   "metadata": {
    "collapsed": false
   },
   "outputs": [],
   "source": [
    "np.argmax(z_airfoil.real)"
   ]
  },
  {
   "cell_type": "code",
   "execution_count": null,
   "metadata": {
    "collapsed": false
   },
   "outputs": [],
   "source": [
    "angle"
   ]
  },
  {
   "cell_type": "code",
   "execution_count": null,
   "metadata": {
    "collapsed": false
   },
   "outputs": [],
   "source": [
    "g[-5:]"
   ]
  },
  {
   "cell_type": "code",
   "execution_count": null,
   "metadata": {
    "collapsed": false
   },
   "outputs": [],
   "source": [
    "g.size"
   ]
  },
  {
   "cell_type": "code",
   "execution_count": null,
   "metadata": {
    "collapsed": false
   },
   "outputs": [],
   "source": [
    "g[4:]"
   ]
  },
  {
   "cell_type": "code",
   "execution_count": null,
   "metadata": {
    "collapsed": false
   },
   "outputs": [],
   "source": [
    "g[(9-11+2):]"
   ]
  },
  {
   "cell_type": "code",
   "execution_count": null,
   "metadata": {
    "collapsed": false
   },
   "outputs": [],
   "source": [
    "g[5]"
   ]
  },
  {
   "cell_type": "code",
   "execution_count": null,
   "metadata": {
    "collapsed": true
   },
   "outputs": [],
   "source": [
    "h = np.array([11,11,11])"
   ]
  },
  {
   "cell_type": "code",
   "execution_count": null,
   "metadata": {
    "collapsed": false
   },
   "outputs": [],
   "source": [
    "h"
   ]
  },
  {
   "cell_type": "code",
   "execution_count": null,
   "metadata": {
    "collapsed": false
   },
   "outputs": [],
   "source": [
    "g"
   ]
  },
  {
   "cell_type": "code",
   "execution_count": null,
   "metadata": {
    "collapsed": false
   },
   "outputs": [],
   "source": [
    "np.concatenate((g,h))"
   ]
  },
  {
   "cell_type": "code",
   "execution_count": null,
   "metadata": {
    "collapsed": false
   },
   "outputs": [],
   "source": [
    "_a"
   ]
  },
  {
   "cell_type": "code",
   "execution_count": null,
   "metadata": {
    "collapsed": true
   },
   "outputs": [],
   "source": []
  }
 ],
 "metadata": {
  "anaconda-cloud": {},
  "kernelspec": {
   "display_name": "Python [Root]",
   "language": "python",
   "name": "Python [Root]"
  },
  "language_info": {
   "codemirror_mode": {
    "name": "ipython",
    "version": 3
   },
   "file_extension": ".py",
   "mimetype": "text/x-python",
   "name": "python",
   "nbconvert_exporter": "python",
   "pygments_lexer": "ipython3",
   "version": "3.5.2"
  }
 },
 "nbformat": 4,
 "nbformat_minor": 0
}
