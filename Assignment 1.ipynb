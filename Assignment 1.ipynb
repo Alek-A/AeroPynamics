{
 "cells": [
  {
   "cell_type": "markdown",
   "metadata": {},
   "source": [
    "# Assignment 1  \n",
    "46110 Basic Aerodynamics"
   ]
  },
  {
   "cell_type": "code",
   "execution_count": 3,
   "metadata": {
    "collapsed": true
   },
   "outputs": [],
   "source": [
    "# Modules\n",
    "import numpy as np\n",
    "from scipy import interpolate\n",
    "import matplotlib.pyplot as plt\n",
    "%matplotlib inline"
   ]
  },
  {
   "cell_type": "markdown",
   "metadata": {},
   "source": [
    "### A)\n",
    "Determine $\\dfrac{m_1}{c}$ and $\\dfrac{m_2}{c}$ for the Joukowski airfoil with relative (to chord) thicknesses of 10%, 20% and 30% and maximum camber 0% and 10%.  \n",
    "Also try to do this with the linearized approach from the book."
   ]
  },
  {
   "cell_type": "markdown",
   "metadata": {},
   "source": [
    "Numerical approach:  \n",
    "Transformation: $z = \\zeta+\\dfrac{c^2}{\\zeta}$  \n"
   ]
  },
  {
   "cell_type": "code",
   "execution_count": 4,
   "metadata": {
    "collapsed": true
   },
   "outputs": [],
   "source": [
    "# Parameters\n",
    "alphad = 0 # angle of attack (for D and E)\n",
    "m1oc = 0. # m1/c \n",
    "m2oc = 0. # m2/c\n",
    "R = 1. # Radius of transformation circle\n",
    "\n",
    "theta_str = str(alphad)+'°'\n",
    "alpha = alphad*np.pi/180\n",
    "c = R/np.sqrt(m2oc**2+(1+m1oc)**2)\n",
    "c2 = c**2\n",
    "chord = 4*c\n",
    "m1 = m1oc*c\n",
    "m2 = m2oc*c\n",
    "s = -m1 + 1j*m2\n",
    "\n",
    "# Targets\n",
    "toc = np.array([0.1, 0.2, 0.3]) # max relative thickness\n",
    "hoc = np.array([0, 0.1]) # max relative camber"
   ]
  },
  {
   "cell_type": "markdown",
   "metadata": {},
   "source": [
    "Max thickness: $\\dfrac{t}{c}\\bigg) _{max}$  \n",
    "Max camber: $\\dfrac{h}{c}\\bigg) _{max}$  \n",
    "Just take thickness as be the difference in y-values so $t=y_u-y_l$  \n",
    "With the camber line: $h = \\dfrac{y_y+y_l}{2}$"
   ]
  },
  {
   "cell_type": "code",
   "execution_count": 28,
   "metadata": {
    "collapsed": true
   },
   "outputs": [],
   "source": [
    "N = 2000 # EVEN number\n",
    "x_start, x_end = -5.0, 5.0        # boundaries for x-dir.\n",
    "y_start, y_end = -5.0, 5.0        # boundaries for y-dir.\n",
    "x_ar = np.linspace(x_start, x_end, N)    #\n",
    "y_ar = np.linspace(y_start, y_end, N)\n",
    "x, y = np.meshgrid(x_ar,y_ar)               # meshes grid\n",
    "\n",
    "# Complex mesh plane\n",
    "z = x+1j*y\n",
    "\n",
    "# Exclusion of points inside circle\n",
    "for i in range(N):\n",
    "    for j in range(N):\n",
    "        if abs(z[i,j])<= (R-5e-3):\n",
    "            z[i,j] = complex(float('nan'),float('nan'))\n",
    "#z = z[None,:,:]"
   ]
  },
  {
   "cell_type": "code",
   "execution_count": 27,
   "metadata": {
    "collapsed": false,
    "scrolled": false
   },
   "outputs": [],
   "source": [
    "M1 = 400\n",
    "M2 = 400\n",
    "n_tests = int(M1*M2) # Number of tests\n",
    "\n",
    "# Various values for m1/c and m2/c\n",
    "m1oc = np.linspace(0, 0.4, M1) \n",
    "m2oc = np.linspace(0, 0.4, M2)\n",
    "\n",
    "## Testing the different values\n",
    "\n",
    "# Empty array to fill in\n",
    "r_t = np.array([]) # max relative thickness\n",
    "r_c = np.array([]) # max relative camber\n",
    "r_m1oc = np.array([]) # m1oc value\n",
    "r_m2oc = np.array([]) # m2oc value\n",
    "\n",
    "# Actual testing\n",
    "for i in range(M1):\n",
    "    for j in range(M2):\n",
    "        c = R/np.sqrt(m2oc[j]**2+(1+m1oc[i])**2)\n",
    "        c2 = c**2\n",
    "        chord = 4*c\n",
    "        m1 = m1oc[i]*c\n",
    "        m2 = m2oc[j]*c\n",
    "        s = -m1 + 1j*m2 # center of circle in zeta\n",
    "        J = z+c2/z # Joukowski transformation of all points\n",
    "\n",
    "        angle = np.linspace(0, 2*np.pi, N) \n",
    "        \n",
    "        # coord. for circle periphery\n",
    "        z_circle = R*(np.cos(angle)+1j*np.sin(angle)) + s\n",
    "        \n",
    "        # coord. for airfoil periphery (J-transform of circle)\n",
    "        z_airfoil = z_circle+c2/z_circle\n",
    "        \n",
    "        \n",
    "        # Upper part of airfoil (from right to left)\n",
    "        leftMostPoint = np.argmin(z_airfoil.real)\n",
    "        za_upper = z_airfoil[:(leftMostPoint-1)]\n",
    "        za_upper = za_upper[::-1] # Reversing array order\n",
    "        \n",
    "        # Lower part of airfoil (left to right)\n",
    "        za_lower = z_airfoil[(int(leftMostPoint)+1):]\n",
    "\n",
    "        # Interpolation functions for upper and lower airfoil curve\n",
    "        fu = interpolate.interp1d(za_upper.real,za_upper.imag, kind='cubic',bounds_error=False)\n",
    "        fl = interpolate.interp1d(za_lower.real,za_lower.imag, kind='cubic',bounds_error=False)\n",
    "        \n",
    "        # Limit values for interpolation.\n",
    "        # Edge values are removed to avoid any errors\n",
    "        lim1 = np.min( z_airfoil.real )*0.95\n",
    "        lim2 = np.max( z_airfoil.real )*0.95\n",
    "        # Evaluation points\n",
    "        span1 = np.linspace(lim1,lim2,200)\n",
    "        \n",
    "        \n",
    "        # Finding max relative thickness\n",
    "        max_t = np.max( (fu(span) - fl(span))/chord )\n",
    "        max_camber = np.max( (fu(span)+fl(span))/2 )\n",
    "        \n",
    "        # Save result\n",
    "        r_t = np.append(r_t, max_t)\n",
    "        r_c = np.append(r_c, max_camber)\n",
    "        r_m1oc = np.append(r_m1oc, m1oc[i])\n",
    "        r_m2oc = np.append(r_m2oc, m2oc[j])"
   ]
  },
  {
   "cell_type": "code",
   "execution_count": null,
   "metadata": {
    "collapsed": true
   },
   "outputs": [],
   "source": [
    "np.savetxt('maxRelThickness.txt',r_t)\n",
    "np.savetxt('maxRelCamber.txt',r_c)\n",
    "np.savetxt('m1oc.txt',r_m1oc)\n",
    "np.savetxt('m2oc.txt',r_m2oc)"
   ]
  },
  {
   "cell_type": "code",
   "execution_count": 25,
   "metadata": {
    "collapsed": false
   },
   "outputs": [
    {
     "data": {
      "text/plain": [
       "array([-1.97272261, -1.7589475 , -1.35456314, -0.80339085, -0.16515869,\n",
       "        0.49097097,  1.09389632,  1.57828102,  1.89163448,  2.        ])"
      ]
     },
     "execution_count": 25,
     "metadata": {},
     "output_type": "execute_result"
    }
   ],
   "source": [
    "za_lower.real"
   ]
  },
  {
   "cell_type": "code",
   "execution_count": null,
   "metadata": {
    "collapsed": false
   },
   "outputs": [],
   "source": [
    "a = np.array([])"
   ]
  },
  {
   "cell_type": "code",
   "execution_count": null,
   "metadata": {
    "collapsed": false
   },
   "outputs": [],
   "source": [
    "a = np.append(a,3)"
   ]
  },
  {
   "cell_type": "code",
   "execution_count": 18,
   "metadata": {
    "collapsed": false
   },
   "outputs": [],
   "source": [
    "tt=np.linspace(-0.5,0.5,100)"
   ]
  },
  {
   "cell_type": "code",
   "execution_count": 19,
   "metadata": {
    "collapsed": false
   },
   "outputs": [
    {
     "data": {
      "text/plain": [
       "array([  2.83878153e-17,   2.85266816e-17,   2.86085428e-17,\n",
       "         2.86329261e-17,   2.85993591e-17,   2.85073689e-17,\n",
       "         2.83564828e-17,   2.81462283e-17,   2.78761326e-17,\n",
       "         2.75457230e-17,   2.71545269e-17,   2.67020717e-17,\n",
       "         2.61878845e-17,   2.56114927e-17,   2.49724237e-17,\n",
       "         2.42702048e-17,   2.35043633e-17,   2.26744265e-17,\n",
       "         2.17799218e-17,   2.08203764e-17,   1.97953177e-17,\n",
       "         1.87042730e-17,   1.75467697e-17,   1.63223350e-17,\n",
       "         1.50304963e-17,   1.36707808e-17,   1.22427160e-17,\n",
       "         1.07458291e-17,   9.17964749e-18,   7.54369845e-18,\n",
       "         5.83750931e-18,   4.06060740e-18,   2.21252003e-18,\n",
       "         2.92774526e-19,  -1.69867357e-18,  -3.75917266e-18,\n",
       "        -5.88502454e-18,  -8.07252869e-18,  -1.03179846e-17,\n",
       "        -1.26176917e-17,  -1.49679496e-17,  -1.73650576e-17,\n",
       "        -1.98053154e-17,  -2.22850223e-17,  -2.48004778e-17,\n",
       "        -2.73479815e-17,  -2.99238328e-17,  -3.25243311e-17,\n",
       "        -3.51457761e-17,  -3.77844671e-17,  -4.04367036e-17,\n",
       "        -4.30987852e-17,  -4.57670112e-17,  -4.84376812e-17,\n",
       "        -5.11070947e-17,  -5.37715512e-17,  -5.64273501e-17,\n",
       "        -5.90707908e-17,  -6.16981730e-17,  -6.43057961e-17,\n",
       "        -6.68899595e-17,  -6.94469627e-17,  -7.19731052e-17,\n",
       "        -7.44646866e-17,  -7.69180062e-17,  -7.93293636e-17,\n",
       "        -8.16950583e-17,  -8.40113897e-17,  -8.62746573e-17,\n",
       "        -8.84811606e-17,  -9.06271990e-17,  -9.27090721e-17,\n",
       "        -9.47230794e-17,  -9.66655203e-17,  -9.85326942e-17,\n",
       "        -1.00320901e-16,  -1.02026439e-16,  -1.03645610e-16,\n",
       "        -1.05174711e-16,  -1.06610043e-16,  -1.07947904e-16,\n",
       "        -1.09184595e-16,  -1.10316416e-16,  -1.11339664e-16,\n",
       "        -1.12250641e-16,  -1.13045645e-16,  -1.13720975e-16,\n",
       "        -1.14272932e-16,  -1.14697815e-16,  -1.14991924e-16,\n",
       "        -1.15151557e-16,  -1.15173014e-16,  -1.15052596e-16,\n",
       "        -1.14786600e-16,  -1.14371327e-16,  -1.13803077e-16,\n",
       "        -1.13078148e-16,  -1.12192840e-16,  -1.11143453e-16,\n",
       "        -1.09927218e-16])"
      ]
     },
     "execution_count": 19,
     "metadata": {},
     "output_type": "execute_result"
    }
   ],
   "source": [
    "fu(tt)"
   ]
  },
  {
   "cell_type": "code",
   "execution_count": 11,
   "metadata": {
    "collapsed": false
   },
   "outputs": [
    {
     "data": {
      "text/plain": [
       "array([-1.87408648, -1.85512122, -1.83615596, -1.8171907 , -1.79822544,\n",
       "       -1.77926018, -1.76029492, -1.74132967, -1.72236441, -1.70339915,\n",
       "       -1.68443389, -1.66546863, -1.64650337, -1.62753811, -1.60857286,\n",
       "       -1.5896076 , -1.57064234, -1.55167708, -1.53271182, -1.51374656,\n",
       "       -1.4947813 , -1.47581604, -1.45685079, -1.43788553, -1.41892027,\n",
       "       -1.39995501, -1.38098975, -1.36202449, -1.34305923, -1.32409397,\n",
       "       -1.30512872, -1.28616346, -1.2671982 , -1.24823294, -1.22926768,\n",
       "       -1.21030242, -1.19133716, -1.17237191, -1.15340665, -1.13444139,\n",
       "       -1.11547613, -1.09651087, -1.07754561, -1.05858035, -1.03961509,\n",
       "       -1.02064984, -1.00168458, -0.98271932, -0.96375406, -0.9447888 ,\n",
       "       -0.92582354, -0.90685828, -0.88789303, -0.86892777, -0.84996251,\n",
       "       -0.83099725, -0.81203199, -0.79306673, -0.77410147, -0.75513621,\n",
       "       -0.73617096, -0.7172057 , -0.69824044, -0.67927518, -0.66030992,\n",
       "       -0.64134466, -0.6223794 , -0.60341415, -0.58444889, -0.56548363,\n",
       "       -0.54651837, -0.52755311, -0.50858785, -0.48962259, -0.47065733,\n",
       "       -0.45169208, -0.43272682, -0.41376156, -0.3947963 , -0.37583104,\n",
       "       -0.35686578, -0.33790052, -0.31893527, -0.29997001, -0.28100475,\n",
       "       -0.26203949, -0.24307423, -0.22410897, -0.20514371, -0.18617845,\n",
       "       -0.1672132 , -0.14824794, -0.12928268, -0.11031742, -0.09135216,\n",
       "       -0.0723869 , -0.05342164, -0.03445638, -0.01549113,  0.00347413,\n",
       "        0.02243939,  0.04140465,  0.06036991,  0.07933517,  0.09830043,\n",
       "        0.11726568,  0.13623094,  0.1551962 ,  0.17416146,  0.19312672,\n",
       "        0.21209198,  0.23105724,  0.2500225 ,  0.26898775,  0.28795301,\n",
       "        0.30691827,  0.32588353,  0.34484879,  0.36381405,  0.38277931,\n",
       "        0.40174456,  0.42070982,  0.43967508,  0.45864034,  0.4776056 ,\n",
       "        0.49657086,  0.51553612,  0.53450138,  0.55346663,  0.57243189,\n",
       "        0.59139715,  0.61036241,  0.62932767,  0.64829293,  0.66725819,\n",
       "        0.68622344,  0.7051887 ,  0.72415396,  0.74311922,  0.76208448,\n",
       "        0.78104974,  0.800015  ,  0.81898026,  0.83794551,  0.85691077,\n",
       "        0.87587603,  0.89484129,  0.91380655,  0.93277181,  0.95173707,\n",
       "        0.97070232,  0.98966758,  1.00863284,  1.0275981 ,  1.04656336,\n",
       "        1.06552862,  1.08449388,  1.10345914,  1.12242439,  1.14138965,\n",
       "        1.16035491,  1.17932017,  1.19828543,  1.21725069,  1.23621595,\n",
       "        1.25518121,  1.27414646,  1.29311172,  1.31207698,  1.33104224,\n",
       "        1.3500075 ,  1.36897276,  1.38793802,  1.40690327,  1.42586853,\n",
       "        1.44483379,  1.46379905,  1.48276431,  1.50172957,  1.52069483,\n",
       "        1.53966009,  1.55862534,  1.5775906 ,  1.59655586,  1.61552112,\n",
       "        1.63448638,  1.65345164,  1.6724169 ,  1.69138215,  1.71034741,\n",
       "        1.72931267,  1.74827793,  1.76724319,  1.78620845,  1.80517371,\n",
       "        1.82413897,  1.84310422,  1.86206948,  1.88103474,  1.9       ])"
      ]
     },
     "execution_count": 11,
     "metadata": {},
     "output_type": "execute_result"
    }
   ],
   "source": [
    "span"
   ]
  },
  {
   "cell_type": "code",
   "execution_count": 10,
   "metadata": {
    "collapsed": false
   },
   "outputs": [
    {
     "data": {
      "text/plain": [
       "2.0"
      ]
     },
     "execution_count": 10,
     "metadata": {},
     "output_type": "execute_result"
    }
   ],
   "source": [
    "np.max( z_airfoil.real )"
   ]
  },
  {
   "cell_type": "markdown",
   "metadata": {},
   "source": [
    "### A) Results\n",
    "\n",
    "$t_{rel, max}$: 0.10005 - $m/c$= (0.081, 0.200)  \n",
    "$t_{rel, max}$: 0.09993 - $m/c$= (0.083, 0.044)  \n",
    "$t_{rel, max}$: 0.10009 - $m/c$= (0.083, 0.067)  \n",
    "  \n"
   ]
  },
  {
   "cell_type": "code",
   "execution_count": null,
   "metadata": {
    "collapsed": false
   },
   "outputs": [],
   "source": [
    "a = np.array([])"
   ]
  },
  {
   "cell_type": "code",
   "execution_count": null,
   "metadata": {
    "collapsed": false
   },
   "outputs": [],
   "source": [
    "a = np.append(np.array([1,2,3]),a,axis=1)"
   ]
  },
  {
   "cell_type": "code",
   "execution_count": null,
   "metadata": {
    "collapsed": false
   },
   "outputs": [],
   "source": [
    "a"
   ]
  },
  {
   "cell_type": "code",
   "execution_count": null,
   "metadata": {
    "collapsed": false
   },
   "outputs": [],
   "source": [
    "plt.plot(za_upper.real,za_upper.imag,'ro')\n",
    "plt.plot(za_lower.real,za_lower.imag,'bo')"
   ]
  },
  {
   "cell_type": "code",
   "execution_count": null,
   "metadata": {
    "collapsed": false
   },
   "outputs": [],
   "source": [
    "plt.plot(z_circle.real, z_circle.imag)"
   ]
  },
  {
   "cell_type": "code",
   "execution_count": null,
   "metadata": {
    "collapsed": false
   },
   "outputs": [],
   "source": [
    "plt.plot(za_upper.real-za_lower.real)"
   ]
  },
  {
   "cell_type": "code",
   "execution_count": null,
   "metadata": {
    "collapsed": false
   },
   "outputs": [],
   "source": [
    "plt.plot(z_airfoil.real, z_airfoil.imag,'o')"
   ]
  },
  {
   "cell_type": "code",
   "execution_count": null,
   "metadata": {
    "collapsed": true
   },
   "outputs": [],
   "source": [
    "        if 0.0990< max_trel < 0.1010:\n",
    "            # Print and plot if within tolerance.\n",
    "            ind = np.argmax((fu(span) - fl(span))/chord) # index in span\n",
    "            print('trel: {0:.5f} - m/c= ({1:.3f}, {2:.3f})'.format(max_trel, m1oc[i], m2oc[j]))\n",
    "            plt.plot(span,fu(span),'.-b')\n",
    "            plt.plot(span,fl(span),'.-r')\n",
    "            plt.plot(span[ind],fu(span[ind]),'ro',ms=5)\n",
    "            plt.plot(span[ind],fl(span[ind]),'bo',ms=5)"
   ]
  }
 ],
 "metadata": {
  "anaconda-cloud": {},
  "kernelspec": {
   "display_name": "Python [Root]",
   "language": "python",
   "name": "Python [Root]"
  },
  "language_info": {
   "codemirror_mode": {
    "name": "ipython",
    "version": 3
   },
   "file_extension": ".py",
   "mimetype": "text/x-python",
   "name": "python",
   "nbconvert_exporter": "python",
   "pygments_lexer": "ipython3",
   "version": "3.5.2"
  }
 },
 "nbformat": 4,
 "nbformat_minor": 0
}
