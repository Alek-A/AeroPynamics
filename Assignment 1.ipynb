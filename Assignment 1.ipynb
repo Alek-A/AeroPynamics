{
 "cells": [
  {
   "cell_type": "markdown",
   "metadata": {
    "deletable": true,
    "editable": true
   },
   "source": [
    "# Assignment 1\n",
    "46110 Basic Aerodynamics  \n",
    "\n",
    "s163008 Martin Simon  \n",
    "s134166 Aleksander Andersen\n",
    "\n",
    "Python Notebook"
   ]
  },
  {
   "cell_type": "code",
   "execution_count": 1,
   "metadata": {
    "collapsed": false,
    "deletable": true,
    "editable": true
   },
   "outputs": [],
   "source": [
    "# Modules\n",
    "import numpy as np\n",
    "from scipy import interpolate\n",
    "import matplotlib.pyplot as plt\n",
    "%matplotlib inline"
   ]
  },
  {
   "cell_type": "markdown",
   "metadata": {},
   "source": [
    "## Defining helpful functions"
   ]
  },
  {
   "cell_type": "code",
   "execution_count": 31,
   "metadata": {
    "collapsed": true
   },
   "outputs": [],
   "source": [
    "def cMap(m1oc, m2oc, method, R=1, N=2**9, n_kt=2):\n",
    "    \"\"\"\n",
    "    Function to do conformal mapping of a circle.\n",
    "    \n",
    "    Input:\n",
    "    m1oc :: float\n",
    "    m2oc :: float\n",
    "    method :: 'J' or 'KT' for Joukowski or Karman-Trefftz\n",
    "    R=1 :: sets the radius of the transformation circle.\n",
    "    N=2**9 :: sets number of periphery points\n",
    "    n_kt :: parameter for Karman-Trefftz transform\n",
    "    \n",
    "    Output:\n",
    "    z_airfoil :: array with complex floats\n",
    "    chord :: chord length\n",
    "    \"\"\"\n",
    "    c = R/np.sqrt(m2oc**2+(1+m1oc)**2) # Transformation constant\n",
    "    m1 = m1oc*c\n",
    "    m2 = m2oc*c\n",
    "    s = -m1 + 1j*m2 # center of circle in zeta\n",
    "    \n",
    "    # N points from zero to 2*pi\n",
    "    angle = np.linspace(0, 2*np.pi, N)\n",
    "    \n",
    "    # Coord.: Circle periphery\n",
    "    z_circle = R*(np.cos(angle)+1j*np.sin(angle)) + s\n",
    "    \n",
    "    # Coord.: Airfoil periphery\n",
    "    if method == 'J':\n",
    "        z_airfoil = z_circle+c**2/z_circle\n",
    "    if method == 'KT':\n",
    "        #z_airfoil = (z_circle-c)**n_kt * n_kt*c/( (z_circle+c)**n_kt - (z_circle-c)**n_kt )\n",
    "        z_airfoil = n_kt*c*(1+((z_circle-c)/(z_circle+c))**n_kt) / (1-((z_circle-c)/(z_circle+c))**n_kt)\n",
    "    \n",
    "    # Chord length as the distance along the real axis.\n",
    "    chord = np.max(z_airfoil.real) - np.min(z_airfoil.real)\n",
    "    \n",
    "    return z_airfoil, chord"
   ]
  },
  {
   "cell_type": "markdown",
   "metadata": {},
   "source": [
    "$z = \\left[1+\\left(\\dfrac{\\zeta-c}{\\zeta+c}\\right)^n\\right] \\left[1-\\left(\\dfrac{\\zeta-c}{\\zeta+c}\\right)^n\\right]^{-1} nc$"
   ]
  },
  {
   "cell_type": "code",
   "execution_count": 32,
   "metadata": {
    "collapsed": true
   },
   "outputs": [],
   "source": [
    "def splitAirfoil(z_airfoil):\n",
    "    \"\"\"\n",
    "    Splits airfoil periphery into upper and lower part\n",
    "    and makes linear interpolation between the points.\n",
    "    \n",
    "    Input:\n",
    "    z_airfoil :: Should be the output of the cMap function.\n",
    "    \n",
    "    Output:\n",
    "    fu :: function for upper section\n",
    "    fl :: function for lower section\n",
    "    Returns\n",
    "    \"\"\"\n",
    "    n = z_airfoil.size\n",
    "    # Find index for leading and trailing edge points\n",
    "    leftMostPoint = np.argmin(z_airfoil.real)\n",
    "    rightMostPoint = np.argmax(z_airfoil.real)        \n",
    "    \n",
    "    # Splitting into upper and lower part of airfoil\n",
    "    if rightMostPoint == 0:\n",
    "        za_upper = z_airfoil[:leftMostPoint]\n",
    "        za_lower = z_airfoil[leftMostPoint:]\n",
    "    else:\n",
    "        _a = z_airfoil[(rightMostPoint-n):]\n",
    "        za_upper = np.concatenate((_a, z_airfoil[:leftMostPoint]))\n",
    "        za_lower = z_airfoil[leftMostPoint:rightMostPoint]\n",
    "    return za_upper, za_lower"
   ]
  },
  {
   "cell_type": "code",
   "execution_count": 33,
   "metadata": {
    "collapsed": false
   },
   "outputs": [],
   "source": [
    "def closestVal(r_t,r_c, r_m1oc,r_m2oc, thickVal,camberVal, t_tol, h_tol):\n",
    "    \"\"\"\n",
    "    Used for assessing results.\n",
    "    \n",
    "    Input:\n",
    "    r_t :: max thickness/chord - output from for-loop\n",
    "    r_c :: max camber/chord - output from for-loop\n",
    "    r_m1oc :: corresponding m1oc values\n",
    "    r_m2oc :: corresponding m2oc values\n",
    "    camberVal :: target value (not in %)\n",
    "    thickVal :: target value (not in %)\n",
    "    t_tol :: tolerance value. Adjust if necessary\n",
    "    h_tol :: tolerance value\n",
    "    \"\"\"    \n",
    "    for i in range(r_t.size):\n",
    "        # Looks for any camber values in target range.\n",
    "        if (camberVal-h_tol) < r_c[i] <= (camberVal+h_tol):\n",
    "            # Looks for any thickness valuen in target range.\n",
    "            if (thickVal-t_tol) < r_t[i] <= (thickVal+t_tol):\n",
    "                # If success, it will print index, values and \n",
    "                print('Point #:',i)\n",
    "                print('t/chord:',r_t[i])\n",
    "                print('h/chord:',r_c[i])\n",
    "                print('(m1oc, m2oc) = ({0:.4f}, {1:.4f})\\n'.format(r_m1oc[i], r_m2oc[i]))"
   ]
  },
  {
   "cell_type": "markdown",
   "metadata": {
    "deletable": true,
    "editable": true
   },
   "source": [
    "# Task A\n",
    "Determine $\\dfrac{m_1}{c}$ and $\\dfrac{m_2}{c}$ for the Joukowski airfoil with relative (to chord) thicknesses of 10%, 20% and 30% and maximum camber 0% and 10%.  \n",
    "Also try to do this with the linearized approach from the book."
   ]
  },
  {
   "cell_type": "markdown",
   "metadata": {
    "deletable": true,
    "editable": true
   },
   "source": [
    "Numerical approach:  \n",
    "Transformation: $z = \\zeta+\\dfrac{c^2}{\\zeta}$  \n"
   ]
  },
  {
   "cell_type": "markdown",
   "metadata": {
    "deletable": true,
    "editable": true
   },
   "source": [
    "Max thickness: $\\dfrac{t}{chord}\\bigg) _{max}$  \n",
    "Max camber: $\\dfrac{h}{chord}\\bigg) _{max}$  \n",
    "Just take thickness as be the difference in y-values so $t=y_u-y_l$  \n",
    "With the camber line: $h = \\dfrac{y_y+y_l}{2}$"
   ]
  },
  {
   "cell_type": "markdown",
   "metadata": {},
   "source": [
    "### Linearized approach\n",
    "When values of $\\dfrac{m_1}{c}$ and $\\dfrac{m_2}{c}$ have been determined, the linearized approach from the Curie book is used to compare the numerical (and non-linearized) approach with the linear approach."
   ]
  },
  {
   "cell_type": "code",
   "execution_count": 34,
   "metadata": {
    "collapsed": true
   },
   "outputs": [],
   "source": [
    "def J_linear(m1oc,m2oc, R=1):\n",
    "    c = R/np.sqrt(m2oc**2+(1+m1oc)**2) # Transformation constant\n",
    "    m1 = m1oc*c\n",
    "    m2 = m2oc*c\n",
    "    chord = 4*c\n",
    "    \n",
    "    # Relative thickness\n",
    "    t_rel = m1oc*3*np.sqrt(3)/4\n",
    "    h_rel = 2*m2/chord\n",
    "    \n",
    "    print('Linear approach')\n",
    "    print('t/chord: {:.4f}'.format(t_rel))\n",
    "    print('h/chord: {:.4f}'.format(h_rel))"
   ]
  },
  {
   "cell_type": "code",
   "execution_count": 5,
   "metadata": {
    "collapsed": false,
    "deletable": true,
    "editable": true
   },
   "outputs": [],
   "source": [
    "M1 = 400\n",
    "M2 = 400\n",
    "n_tests = int(M1*M2) # Number of tests\n",
    "\n",
    "# Various values for m1/c and m2/c\n",
    "m1oc = np.linspace(0, 0.4, M1) \n",
    "m2oc = np.linspace(0, 0.4, M2)\n",
    "\n",
    "## Testing the different values\n",
    "\n",
    "# Empty array to fill in\n",
    "r_t = np.array([]) # max relative thickness\n",
    "r_c = np.array([]) # max relative camber\n",
    "r_m1oc = np.array([]) # m1oc value\n",
    "r_m2oc = np.array([]) # m2oc value\n",
    "\n",
    "# Actual testing\n",
    "for i in range(M1):\n",
    "    for j in range(M2):\n",
    "        z_airfoil, chord = cMap(m1oc[i], m2oc[j], 'J', R=1, N=2**9)\n",
    "        \n",
    "        za_upper, za_lower = splitAirfoil(z_airfoil)\n",
    "        \n",
    "        # Interpolation functions for upper and lower airfoil curves\n",
    "        fu = interpolate.interp1d(za_upper.real,za_upper.imag, kind='linear',bounds_error=False)\n",
    "        fl = interpolate.interp1d(za_lower.real,za_lower.imag, kind='linear',bounds_error=False)\n",
    "        \n",
    "        # Limit values for interpolation.\n",
    "        # Edge values are removed to avoid any errors\n",
    "        lim1 = np.min( z_airfoil.real )*0.99\n",
    "        lim2 = np.max( z_airfoil.real )*0.99\n",
    "        # Evaluation points\n",
    "        span = np.linspace(lim1,lim2,400)\n",
    "        \n",
    "        \n",
    "        # Finding max relative thickness\n",
    "        max_t = np.nanmax( (fu(span) - fl(span))/chord )\n",
    "        # Max relative camber\n",
    "        max_camber = np.nanmax( (fu(span)+fl(span))/2 )\n",
    "        \n",
    "        # Save result\n",
    "        r_t = np.append(r_t, max_t)\n",
    "        r_c = np.append(r_c, max_camber)\n",
    "        r_m1oc = np.append(r_m1oc, m1oc[i])\n",
    "        r_m2oc = np.append(r_m2oc, m2oc[j])"
   ]
  },
  {
   "cell_type": "code",
   "execution_count": 6,
   "metadata": {
    "collapsed": false
   },
   "outputs": [],
   "source": [
    "# Save data to files\n",
    "np.savetxt('maxRelThickness.txt',r_t)\n",
    "np.savetxt('maxRelCamber.txt',r_c)\n",
    "np.savetxt('m1oc.txt',r_m1oc)\n",
    "np.savetxt('m2oc.txt',r_m2oc)"
   ]
  },
  {
   "cell_type": "code",
   "execution_count": null,
   "metadata": {
    "collapsed": true
   },
   "outputs": [],
   "source": [
    "# If block has run, then load data\n",
    "r_t = np.loadtxt('maxRelThickness.txt')\n",
    "r_c = np.loadtxt('maxRelCamber.txt')\n",
    "r_m1oc = np.loadtxt('m1oc.txt')\n",
    "r_m2oc = np.loadtxt('m2oc.txt')"
   ]
  },
  {
   "cell_type": "code",
   "execution_count": 7,
   "metadata": {
    "collapsed": false
   },
   "outputs": [
    {
     "data": {
      "image/png": "[encoded data removed]",
      "text/plain": [
       "<matplotlib.figure.Figure at 0x113119898>"
      ]
     },
     "metadata": {},
     "output_type": "display_data"
    },
    {
     "data": {
      "image/png": "[encoded data removed]",
      "text/plain": [
       "<matplotlib.figure.Figure at 0x1055d00f0>"
      ]
     },
     "metadata": {},
     "output_type": "display_data"
    }
   ],
   "source": [
    "plt.figure()\n",
    "plt.plot(r_t,'-b')\n",
    "plt.xlabel('Point #')\n",
    "plt.ylabel('Max relative thickness, t/chord')\n",
    "plt.grid()\n",
    "plt.tight_layout()\n",
    "plt.savefig('01_J_rt.pdf')\n",
    "\n",
    "plt.figure()\n",
    "plt.plot(r_c,'-r')\n",
    "plt.xlabel('Point #')\n",
    "plt.ylabel('Max relative camber, h/chord')\n",
    "plt.grid()\n",
    "plt.tight_layout()\n",
    "plt.savefig('02_J_rh.pdf')"
   ]
  },
  {
   "cell_type": "markdown",
   "metadata": {},
   "source": [
    "### Results for part A"
   ]
  },
  {
   "cell_type": "code",
   "execution_count": 13,
   "metadata": {
    "collapsed": false,
    "scrolled": true
   },
   "outputs": [
    {
     "name": "stdout",
     "output_type": "stream",
     "text": [
      "Point #: 33200\n",
      "t/chord: 0.0996386002915\n",
      "h/chord: 1.14491749414e-16\n",
      "(m1oc, m2oc) = (0.0832, 0.0000)\n",
      "\n"
     ]
    }
   ],
   "source": [
    "# Relative camber 0%\n",
    "# Relative thickness 10%\n",
    "camberVal = 0\n",
    "thickVal = 0.1\n",
    "t_tol = 0.0005 # Adjust\n",
    "h_tol = 0.0005 # Adjust\n",
    "closestVal(r_t,r_c, r_m1oc,r_m2oc, thickVal,camberVal, t_tol, h_tol)"
   ]
  },
  {
   "cell_type": "code",
   "execution_count": 35,
   "metadata": {
    "collapsed": false
   },
   "outputs": [
    {
     "name": "stdout",
     "output_type": "stream",
     "text": [
      "Linear approach\n",
      "t/chord: 0.1081\n",
      "h/chord: 0.0000\n"
     ]
    }
   ],
   "source": [
    "J_linear(0.0832, 0.0000)"
   ]
  },
  {
   "cell_type": "code",
   "execution_count": 14,
   "metadata": {
    "collapsed": false
   },
   "outputs": [
    {
     "name": "stdout",
     "output_type": "stream",
     "text": [
      "Point #: 73200\n",
      "t/chord: 0.200166617079\n",
      "h/chord: 1.38777878078e-16\n",
      "(m1oc, m2oc) = (0.1835, 0.0000)\n",
      "\n"
     ]
    }
   ],
   "source": [
    "# Relative camber 0%\n",
    "# Relative thickness 20%\n",
    "camberVal = 0\n",
    "thickVal = 0.2\n",
    "t_tol = 0.0005 # Adjust\n",
    "h_tol = 0.0005 # Adjust\n",
    "closestVal(r_t,r_c, r_m1oc,r_m2oc, thickVal,camberVal, t_tol, h_tol)"
   ]
  },
  {
   "cell_type": "code",
   "execution_count": 36,
   "metadata": {
    "collapsed": false
   },
   "outputs": [
    {
     "name": "stdout",
     "output_type": "stream",
     "text": [
      "Linear approach\n",
      "t/chord: 0.2384\n",
      "h/chord: 0.0000\n"
     ]
    }
   ],
   "source": [
    "J_linear(0.1835, 0.0000)"
   ]
  },
  {
   "cell_type": "code",
   "execution_count": 15,
   "metadata": {
    "collapsed": false
   },
   "outputs": [
    {
     "name": "stdout",
     "output_type": "stream",
     "text": [
      "Point #: 122000\n",
      "t/chord: 0.30001483146\n",
      "h/chord: 1.11022302463e-16\n",
      "(m1oc, m2oc) = (0.3058, 0.0000)\n",
      "\n"
     ]
    }
   ],
   "source": [
    "# Relative camber 0%\n",
    "# Relative thickness 30%\n",
    "camberVal = 0\n",
    "thickVal = 0.3\n",
    "t_tol = 0.0005 # Adjust\n",
    "h_tol = 0.0005 # Adjust\n",
    "closestVal(r_t,r_c, r_m1oc,r_m2oc, thickVal,camberVal, t_tol, h_tol)"
   ]
  },
  {
   "cell_type": "code",
   "execution_count": 37,
   "metadata": {
    "collapsed": false
   },
   "outputs": [
    {
     "name": "stdout",
     "output_type": "stream",
     "text": [
      "Linear approach\n",
      "t/chord: 0.3972\n",
      "h/chord: 0.0000\n"
     ]
    }
   ],
   "source": [
    "J_linear(0.3058, 0.0000)"
   ]
  },
  {
   "cell_type": "code",
   "execution_count": 16,
   "metadata": {
    "collapsed": false,
    "deletable": true,
    "editable": true
   },
   "outputs": [
    {
     "name": "stdout",
     "output_type": "stream",
     "text": [
      "Point #: 33258\n",
      "t/chord: 0.0998509566203\n",
      "h/chord: 0.0995523772563\n",
      "(m1oc, m2oc) = (0.0832, 0.0581)\n",
      "\n"
     ]
    }
   ],
   "source": [
    "# Relative camber 10%\n",
    "# Relative thickness 10%\n",
    "camberVal = 0.1\n",
    "thickVal = 0.1\n",
    "t_tol = 0.0005 # Adjust\n",
    "h_tol = 0.0005 # Adjust\n",
    "closestVal(r_t,r_c, r_m1oc,r_m2oc, thickVal,camberVal, t_tol, h_tol)"
   ]
  },
  {
   "cell_type": "code",
   "execution_count": 38,
   "metadata": {
    "collapsed": false
   },
   "outputs": [
    {
     "name": "stdout",
     "output_type": "stream",
     "text": [
      "Linear approach\n",
      "t/chord: 0.1081\n",
      "h/chord: 0.0290\n"
     ]
    }
   ],
   "source": [
    "J_linear(0.0832, 0.0581)"
   ]
  },
  {
   "cell_type": "code",
   "execution_count": 17,
   "metadata": {
    "collapsed": false
   },
   "outputs": [
    {
     "name": "stdout",
     "output_type": "stream",
     "text": [
      "Point #: 72868\n",
      "t/chord: 0.199723133642\n",
      "h/chord: 0.0997213705218\n",
      "(m1oc, m2oc) = (0.1825, 0.0682)\n",
      "\n"
     ]
    }
   ],
   "source": [
    "# Relative camber 10%\n",
    "# Relative thickness 20%\n",
    "camberVal = 0.1\n",
    "thickVal = 0.2\n",
    "t_tol = 0.0005 # Adjust\n",
    "h_tol = 0.0005 # Adjust\n",
    "closestVal(r_t,r_c, r_m1oc,r_m2oc, thickVal,camberVal, t_tol, h_tol)"
   ]
  },
  {
   "cell_type": "code",
   "execution_count": 39,
   "metadata": {
    "collapsed": false
   },
   "outputs": [
    {
     "name": "stdout",
     "output_type": "stream",
     "text": [
      "Linear approach\n",
      "t/chord: 0.2371\n",
      "h/chord: 0.0341\n"
     ]
    }
   ],
   "source": [
    "J_linear(0.1825, 0.0682)"
   ]
  },
  {
   "cell_type": "code",
   "execution_count": 29,
   "metadata": {
    "collapsed": false
   },
   "outputs": [
    {
     "name": "stdout",
     "output_type": "stream",
     "text": [
      "Point #: 121680\n",
      "t/chord: 0.300040775386\n",
      "h/chord: 0.0994673037994\n",
      "(m1oc, m2oc) = (0.3048, 0.0802)\n",
      "\n"
     ]
    }
   ],
   "source": [
    "# Relative camber 10%\n",
    "# Relative thickness 30%\n",
    "camberVal = 0.1\n",
    "thickVal = 0.3\n",
    "t_tol = 0.0001 # Adjust\n",
    "h_tol = 0.0006 # Adjust\n",
    "closestVal(r_t,r_c, r_m1oc,r_m2oc, thickVal,camberVal, t_tol, h_tol)"
   ]
  },
  {
   "cell_type": "code",
   "execution_count": 40,
   "metadata": {
    "collapsed": false
   },
   "outputs": [
    {
     "name": "stdout",
     "output_type": "stream",
     "text": [
      "Linear approach\n",
      "t/chord: 0.3959\n",
      "h/chord: 0.0401\n"
     ]
    }
   ],
   "source": [
    "J_linear(0.3048, 0.0802)"
   ]
  },
  {
   "cell_type": "markdown",
   "metadata": {
    "collapsed": false
   },
   "source": [
    "# Task A - Linearized Approach"
   ]
  },
  {
   "cell_type": "markdown",
   "metadata": {
    "collapsed": true
   },
   "source": [
    "# Task B\n",
    "Karman-Trefftz transformation.  \n",
    "$\\dfrac{z-nc}{z+nc} = \\left(\\dfrac{\\zeta-c}{\\zeta+c}\\right)^n$  \n"
   ]
  },
  {
   "cell_type": "markdown",
   "metadata": {},
   "source": [
    "$z = \\left(\\dfrac{\\zeta-c}{\\zeta+c}\\right)^n z + \\left(\\dfrac{\\zeta-c}{\\zeta+c}\\right)^n nc + nc$"
   ]
  },
  {
   "cell_type": "markdown",
   "metadata": {},
   "source": [
    "$z = \\left(\\dfrac{\\zeta-c}{\\zeta+c}\\right)^n z\n",
    "+\\left[1+\\left(\\dfrac{\\zeta-c}{\\zeta+c}\\right)^n\\right] nc$  \n",
    "$z \\left[1-\\left(\\dfrac{\\zeta-c}{\\zeta+c}\\right)^n\\right] = \\left[1+\\left(\\dfrac{\\zeta-c}{\\zeta+c}\\right)^n\\right] nc$"
   ]
  },
  {
   "cell_type": "markdown",
   "metadata": {},
   "source": [
    "$z = \\left[1+\\left(\\dfrac{\\zeta-c}{\\zeta+c}\\right)^n\\right] \\left[1-\\left(\\dfrac{\\zeta-c}{\\zeta+c}\\right)^n\\right]^{-1} nc$"
   ]
  },
  {
   "cell_type": "markdown",
   "metadata": {},
   "source": [
    "$z = \\dfrac{\\left[1+\\left(\\dfrac{\\zeta-c}{\\zeta+c}\\right)^n\\right]}{\\left[1-\\left(\\dfrac{\\zeta-c}{\\zeta+c}\\right)^n\\right]}nc$"
   ]
  },
  {
   "cell_type": "markdown",
   "metadata": {},
   "source": [
    "B.1  \n",
    "Karman-Trefftz transformation for trailing edge angle $\\beta$ = 18°.  \n",
    "$\\beta=2\\pi-n\\pi \\leftrightarrow n=2-\\beta/\\pi$"
   ]
  },
  {
   "cell_type": "code",
   "execution_count": 41,
   "metadata": {
    "collapsed": false,
    "scrolled": false
   },
   "outputs": [
    {
     "name": "stdout",
     "output_type": "stream",
     "text": [
      "Kármán-Trefftz parameter for 18° trailing edge angle \n",
      "n= 1.90\n"
     ]
    }
   ],
   "source": [
    "## INPUTS\n",
    "betad = 18 # trailing edge angle [deg]\n",
    "\n",
    "M1 = 400 # points for m1oc\n",
    "M2 = 400 # points for m2oc\n",
    "n_tests = int(M1*M2) # Number of tests\n",
    "\n",
    "beta = betad*np.pi/180\n",
    "n_kt = 2-beta/np.pi \n",
    "print('Kármán-Trefftz parameter for 18° trailing edge angle \\nn= {:.2f}'.format(n_kt))\n",
    "\n",
    "\n",
    "# Various values for m1/c and m2/c\n",
    "m1oc = np.linspace(0, 0.32, M1) \n",
    "m2oc = np.linspace(0, 0.32, M2)\n",
    "\n",
    "## Testing the different values\n",
    "# Empty array to fill in\n",
    "r_t = np.array([]) # max relative thickness\n",
    "r_c = np.array([]) # max relative camber\n",
    "r_m1oc = np.array([]) # m1oc value\n",
    "r_m2oc = np.array([]) # m2oc value\n",
    "\n",
    "#fig1,ax1 = plt.subplots()\n",
    "#fig2,ax2 = plt.subplots()\n",
    "\n",
    "# Actual testing\n",
    "for i in range(M1):\n",
    "    for j in range(M2):\n",
    "        # Calculates airfoil and chord\n",
    "        z_airfoil, chord = cMap(m1oc[i], m2oc[j], 'KT', R=1, N=2**9, n_kt=n_kt)\n",
    "        \n",
    "        # Splits in upper and lower\n",
    "        za_upper, za_lower = splitAirfoil(z_airfoil)\n",
    "\n",
    "        # Makes interpolation functions for upper and lower airfoil curve\n",
    "        fu = interpolate.interp1d(za_upper.real,za_upper.imag, kind='linear',bounds_error=False)\n",
    "        fl = interpolate.interp1d(za_lower.real,za_lower.imag, kind='linear',bounds_error=False)\n",
    "        \n",
    "        # Limit values for interpolation.\n",
    "        # Edge values are removed to avoid any errors\n",
    "        lim1 = np.min( z_airfoil.real )*0.99\n",
    "        lim2 = np.max( z_airfoil.real )*0.99\n",
    "        # Evaluation points\n",
    "        span = np.linspace(lim1,lim2,400)\n",
    "        \n",
    "        \n",
    "        # Finding max relative thickness\n",
    "        max_t = np.nanmax( (fu(span) - fl(span))/chord )\n",
    "        # Finding max relative camber\n",
    "        max_camber = np.nanmax( (fu(span)+fl(span))/2 )\n",
    "        \n",
    "        # Save result in array\n",
    "        r_t = np.append(r_t, max_t)\n",
    "        r_c = np.append(r_c, max_camber)\n",
    "        r_m1oc = np.append(r_m1oc, m1oc[i])\n",
    "        r_m2oc = np.append(r_m2oc, m2oc[j])\n",
    "        \n",
    "        # Plotting\n",
    "        \n",
    "        #if i%2==0 and j%2==0:\n",
    "            #ax1.plot(z_circle.real, z_circle.imag,'-')\n",
    "            #ax1.set_aspect('equal')\n",
    "            #ax2.plot(z_airfoil.real, z_airfoil.imag,'-',label=[i,j])\n",
    "            #ax2.set_aspect('equal')\n",
    "            \n",
    "            # X-Y limits for zooming in on trailing edge\n",
    "            #ax2.set_xlim(-0.01,0.01)\n",
    "            #ax2.set_ylim(-0.01,0.01)"
   ]
  },
  {
   "cell_type": "code",
   "execution_count": 42,
   "metadata": {
    "collapsed": true
   },
   "outputs": [],
   "source": [
    "# Save data to files\n",
    "np.savetxt('kt_maxRelThickness.txt',r_t)\n",
    "np.savetxt('kt_maxRelCamber.txt',r_c)\n",
    "np.savetxt('kt_m1oc.txt',r_m1oc)\n",
    "np.savetxt('kt_m2oc.txt',r_m2oc)"
   ]
  },
  {
   "cell_type": "code",
   "execution_count": 43,
   "metadata": {
    "collapsed": false,
    "scrolled": false
   },
   "outputs": [
    {
     "data": {
      "image/png": "[encoded data removed]",
      "text/plain": [
       "<matplotlib.figure.Figure at 0x11347d278>"
      ]
     },
     "metadata": {},
     "output_type": "display_data"
    },
    {
     "data": {
      "image/png": "[encoded data removed]",
      "text/plain": [
       "<matplotlib.figure.Figure at 0x10ca984e0>"
      ]
     },
     "metadata": {},
     "output_type": "display_data"
    }
   ],
   "source": [
    "plt.figure()\n",
    "plt.plot(r_t,'-b')\n",
    "plt.xlabel('Point #')\n",
    "plt.ylabel('Max relative thickness, t/chord')\n",
    "plt.grid()\n",
    "plt.tight_layout()\n",
    "plt.savefig('01_J_rt.pdf')\n",
    "\n",
    "plt.figure()\n",
    "plt.plot(r_c,'-r')\n",
    "plt.xlabel('Point #')\n",
    "plt.ylabel('Max relative camber, h/chord')\n",
    "plt.grid()\n",
    "plt.tight_layout()\n",
    "plt.savefig('02_J_rh.pdf')"
   ]
  },
  {
   "cell_type": "markdown",
   "metadata": {},
   "source": [
    "### Results for part B"
   ]
  },
  {
   "cell_type": "code",
   "execution_count": 45,
   "metadata": {
    "collapsed": false
   },
   "outputs": [
    {
     "name": "stdout",
     "output_type": "stream",
     "text": [
      "Point #: 10800\n",
      "t/chord: 0.100206125696\n",
      "h/chord: 2.08166817117e-16\n",
      "(m1oc, m2oc) = (0.0217, 0.0000)\n",
      "\n"
     ]
    }
   ],
   "source": [
    "# Relative camber 0%\n",
    "# Relative thickness 10%\n",
    "camberVal = 0\n",
    "thickVal = 0.1\n",
    "t_tol = 0.0005 # Adjust\n",
    "h_tol = 0.00001 # Adjust\n",
    "closestVal(r_t,r_c, r_m1oc,r_m2oc, thickVal,camberVal, t_tol, h_tol)"
   ]
  },
  {
   "cell_type": "code",
   "execution_count": 52,
   "metadata": {
    "collapsed": false
   },
   "outputs": [
    {
     "name": "stdout",
     "output_type": "stream",
     "text": [
      "Point #: 60000\n",
      "t/chord: 0.20031222214\n",
      "h/chord: 3.26128013484e-16\n",
      "(m1oc, m2oc) = (0.1203, 0.0000)\n",
      "\n"
     ]
    }
   ],
   "source": [
    "# Relative camber 0%\n",
    "# Relative thickness 20%\n",
    "camberVal = 0\n",
    "thickVal = 0.2\n",
    "t_tol = 0.0004 # Adjust\n",
    "h_tol = 0.0005 # Adjust\n",
    "closestVal(r_t,r_c, r_m1oc,r_m2oc, thickVal,camberVal, t_tol, h_tol)"
   ]
  },
  {
   "cell_type": "code",
   "execution_count": 56,
   "metadata": {
    "collapsed": false
   },
   "outputs": [
    {
     "name": "stdout",
     "output_type": "stream",
     "text": [
      "Point #: 116800\n",
      "t/chord: 0.299801877874\n",
      "h/chord: 3.33066907388e-16\n",
      "(m1oc, m2oc) = (0.2342, 0.0000)\n",
      "\n"
     ]
    }
   ],
   "source": [
    "# Relative camber 0%\n",
    "# Relative thickness 30%\n",
    "camberVal = 0\n",
    "thickVal = 0.3\n",
    "t_tol = 0.0004 # Adjust\n",
    "h_tol = 0.0005 # Adjust\n",
    "closestVal(r_t,r_c, r_m1oc,r_m2oc, thickVal,camberVal, t_tol, h_tol)"
   ]
  },
  {
   "cell_type": "code",
   "execution_count": 72,
   "metadata": {
    "collapsed": false
   },
   "outputs": [
    {
     "name": "stdout",
     "output_type": "stream",
     "text": [
      "Point #: 10471\n",
      "t/chord: 0.099637935612\n",
      "h/chord: 0.0994135597458\n",
      "(m1oc, m2oc) = (0.0209, 0.0569)\n",
      "\n"
     ]
    }
   ],
   "source": [
    "# Relative camber 10%\n",
    "# Relative thickness 10%\n",
    "camberVal = 0.1\n",
    "thickVal = 0.1\n",
    "t_tol = 0.0004 # Adjust\n",
    "h_tol = 0.0008 # Adjust\n",
    "closestVal(r_t,r_c, r_m1oc,r_m2oc, thickVal,camberVal, t_tol, h_tol)"
   ]
  },
  {
   "cell_type": "code",
   "execution_count": 73,
   "metadata": {
    "collapsed": false
   },
   "outputs": [
    {
     "name": "stdout",
     "output_type": "stream",
     "text": [
      "Point #: 59684\n",
      "t/chord: 0.200035709061\n",
      "h/chord: 0.10005258591\n",
      "(m1oc, m2oc) = (0.1195, 0.0674)\n",
      "\n"
     ]
    }
   ],
   "source": [
    "# Relative camber 10%\n",
    "# Relative thickness 20%\n",
    "camberVal = 0.1\n",
    "thickVal = 0.2\n",
    "t_tol = 0.0005 # Adjust\n",
    "h_tol = 0.0005 # Adjust\n",
    "closestVal(r_t,r_c, r_m1oc,r_m2oc, thickVal,camberVal, t_tol, h_tol)"
   ]
  },
  {
   "cell_type": "code",
   "execution_count": 75,
   "metadata": {
    "collapsed": false
   },
   "outputs": [
    {
     "name": "stdout",
     "output_type": "stream",
     "text": [
      "Point #: 116498\n",
      "t/chord: 0.299946649604\n",
      "h/chord: 0.09961366714\n",
      "(m1oc, m2oc) = (0.2334, 0.0786)\n",
      "\n"
     ]
    }
   ],
   "source": [
    "# Relative camber 10%\n",
    "# Relative thickness 30%\n",
    "camberVal = 0.1\n",
    "thickVal = 0.3\n",
    "t_tol = 0.0001 # Adjust\n",
    "h_tol = 0.0005 # Adjust\n",
    "closestVal(r_t,r_c, r_m1oc,r_m2oc, thickVal,camberVal, t_tol, h_tol)"
   ]
  },
  {
   "cell_type": "markdown",
   "metadata": {},
   "source": [
    "# Task C\n",
    "Plotting of shapes and pressure distribution"
   ]
  },
  {
   "cell_type": "markdown",
   "metadata": {
    "collapsed": true
   },
   "source": [
    "The values are:"
   ]
  },
  {
   "cell_type": "code",
   "execution_count": 91,
   "metadata": {
    "collapsed": true
   },
   "outputs": [],
   "source": [
    "# Order\n",
    "# (t/chord, h/chord) = (20% , 0%) and (20% , 10%)\n",
    "\n",
    "moc_J = np.array([\n",
    "[0.1835, 0.0000], [0.1825, 0.0682]\n",
    "])\n",
    "\n",
    "moc_KT = np.array([\n",
    "[0.1203, 0.0000], [0.1195, 0.0674]\n",
    "])"
   ]
  },
  {
   "cell_type": "code",
   "execution_count": 92,
   "metadata": {
    "collapsed": true
   },
   "outputs": [],
   "source": [
    "def transform(method, z, c, n_kt=2, derivative=False):\n",
    "    if derivative==False:\n",
    "        if method == 'J':\n",
    "            z_new = z+c**2/z\n",
    "        if method == 'KT':\n",
    "            z_new = n_kt*c*(1+((z-c)/(z+c))**n_kt) / (1-((z-c)/(z+c))**n_kt)\n",
    "    if derivative==True:\n",
    "        if method == 'J':\n",
    "            z_new = 1-c**2/z**2\n",
    "        if method == 'KT':\n",
    "            z_new = cg = -4 / (-1 + ((z - c) / (z + c)) ** n_kt) ** 2 * n_kt ** 2 * c ** 2 * ((z - c) / (z + c)) ** n_kt / (c ** 2 - z ** 2)\n",
    "    return z_new"
   ]
  },
  {
   "cell_type": "code",
   "execution_count": 95,
   "metadata": {
    "collapsed": false
   },
   "outputs": [],
   "source": [
    "def airfoil(method, m1oc,m2oc, alphad, betad, N=2**6, R=1):\n",
    "    # Mesh grid\n",
    "    x_start, x_end = -5.0, 5.0        # boundaries for x-dir.\n",
    "    y_start, y_end = -5.0, 5.0        # boundaries for y-dir.\n",
    "    x_ar = np.linspace(x_start, x_end, N)    #\n",
    "    y_ar = np.linspace(y_start, y_end, N)\n",
    "    x, y = np.meshgrid(x_ar,y_ar)               # meshes grid\n",
    "    \n",
    "    # Complex mesh plane\n",
    "    z = x+1j*y\n",
    "    \n",
    "    # Exclusion of points inside circle\n",
    "    for i in range(N):\n",
    "        for j in range(N):\n",
    "            if abs(z[i,j])<= (R-5e-3):\n",
    "                z[i,j] = complex(float('nan'),float('nan'))\n",
    "    #z = z[None,:,:]\n",
    "    \n",
    "    theta_str = str(alphad)+'°'\n",
    "    alpha = alphad*np.pi/180\n",
    "    n_kt = 2 - betad/180\n",
    "    c = R/np.sqrt(m2oc**2+(1+m1oc)**2)\n",
    "    c2 = c**2\n",
    "    chord = 4*c\n",
    "    m1 = m1oc*c\n",
    "    m2 = m2oc*c\n",
    "    s = -m1 + 1j*m2\n",
    "    \n",
    "    # Circulation\n",
    "    Gamma = 4*np.pi*c*(1+m1oc)*np.sin(alpha+m2oc)\n",
    "    Cl = 2*Gamma/chord\n",
    "    Cl_str = str(Cl)\n",
    "    k = Gamma/2/np.pi\n",
    "    \n",
    "    angle = np.linspace(0, 2*np.pi, N)\n",
    "    z_circle = R*(np.cos(angle)+1j*np.sin(angle)) + s\n",
    "    # Transformation on grid\n",
    "    J = transform(method, z, c, n_kt=n_kt, derivative=False)\n",
    "    # Transformation of circle\n",
    "    z_airfoil = transform(method, z_circle, c, n_kt=n_kt, derivative=False)\n",
    "    \n",
    "    # Aerodynamic potential \n",
    "    f = np.exp(-1j*alpha)*(z-s) + (np.exp(1j*alpha)*R**2)/(z-s) + 1j*k*np.log(z-s)\n",
    "    \n",
    "    \n",
    "    # Velocity field around circle\n",
    "    dfdz = np.exp(-1j*alpha) - (np.exp(1j*alpha)*R**2)/(z-s)**2 + 1j*k/(z-s)\n",
    "    u1 = dfdz.real\n",
    "    v1 = -dfdz.imag\n",
    "    \n",
    "    # Velocity field around airfoil\n",
    "    W = dfdz/transform(method, z, c, n_kt=n_kt, derivative=True)\n",
    "    u = W.real\n",
    "    v = - W.imag\n",
    "    \n",
    "    # Flow along contour of Circle and Airfoil\n",
    "\n",
    "    xc=z_airfoil.real\n",
    "    yc=z_airfoil.imag\n",
    "    \n",
    "    # Circle\n",
    "    dfcdz = np.exp(-1j*alpha) - (np.exp(1j*alpha)*R**2)/(z_circle-s)**2 + 1j*k/(z_circle-s)\n",
    "    uc1 = dfcdz.real\n",
    "    vc1 = -dfcdz.imag\n",
    "    \n",
    "    # Airfoil\n",
    "    Wa = dfcdz/transform(method, z_circle, c, n_kt=n_kt, derivative=True)\n",
    "    ua = Wa.real\n",
    "    va = - Wa.imag\n",
    "    \n",
    "    \n",
    "    # Pressure distribution\n",
    "    Cp = 1 -(ua**2+va**2)\n",
    "    \n",
    "    return z, z_airfoil, ua, va, Cp, Cl"
   ]
  },
  {
   "cell_type": "markdown",
   "metadata": {},
   "source": [
    "### (t/chord, h/chord) = (20% , 0%)"
   ]
  },
  {
   "cell_type": "code",
   "execution_count": 118,
   "metadata": {
    "collapsed": false
   },
   "outputs": [
    {
     "name": "stderr",
     "output_type": "stream",
     "text": [
      "/Users/Alek/anaconda/lib/python3.5/site-packages/ipykernel/__main__.py:67: RuntimeWarning: divide by zero encountered in true_divide\n",
      "/Users/Alek/anaconda/lib/python3.5/site-packages/ipykernel/__main__.py:67: RuntimeWarning: invalid value encountered in true_divide\n"
     ]
    },
    {
     "data": {
      "image/png": "[encoded data removed]",
      "text/plain": [
       "<matplotlib.figure.Figure at 0x1151c8278>"
      ]
     },
     "metadata": {},
     "output_type": "display_data"
    },
    {
     "data": {
      "image/png": "[encoded data removed]",
      "text/plain": [
       "<matplotlib.figure.Figure at 0x1185bcc88>"
      ]
     },
     "metadata": {},
     "output_type": "display_data"
    }
   ],
   "source": [
    "# Inputs\n",
    "method = 'J'\n",
    "alphad = 10 # angle of attack\n",
    "betad = 18 # trailing edge angle for KT-airfoil\n",
    "m1oc = moc_J[0,0] # m1/c \n",
    "m2oc = moc_J[0,1] # m2/c\n",
    "R = 1.\n",
    "\n",
    "# Calc\n",
    "z, z_airfoil, ua, va, Cp, Cl = airfoil(method, m1oc,m2oc, alphad, betad, N=2**6, R=1)\n",
    "\n",
    "\n",
    "# Inputs\n",
    "method = 'KT'\n",
    "alphad = 10 # angle of attack\n",
    "betad = 18 # trailing edge angle for KT-airfoil\n",
    "m1oc = moc_KT[0,0] # m1/c \n",
    "m2oc = moc_KT[0,1] # m2/c\n",
    "R = 1.\n",
    "\n",
    "# Calc\n",
    "z2, z_airfoil2, ua2, va2, Cp2, Cl2 = airfoil(method, m1oc,m2oc, alphad, betad, N=2**6, R=1)\n",
    "\n",
    "plt.figure()\n",
    "plt.title('t/chord=20%, h/chord=0%, alpha=10°')\n",
    "plt.plot(z_airfoil.real, -Cp,\n",
    "        '-bo', lw=2, label='J')\n",
    "plt.plot(z_airfoil2.real, -Cp2,\n",
    "        '-ro', lw=2, label='KT, beta=18°')         \n",
    "plt.grid()\n",
    "plt.xlim(-2,2)\n",
    "plt.ylim(-1.5,5)\n",
    "plt.legend(loc=1)\n",
    "plt.ylabel('Pressure coeff. -Cp')\n",
    "plt.xlabel('Re(z)')\n",
    "plt.tight_layout()\n",
    "plt.savefig('pres1_dist.pdf')\n",
    "\n",
    "plt.figure()\n",
    "plt.title('Airfoil geometry - t/chord=20%, h/chord=0%')\n",
    "plt.plot(z_airfoil.real, z_airfoil.imag,'-bo',label='Joukowski')\n",
    "plt.plot(z_airfoil2.real, z_airfoil2.imag, '-ro',label='Karman-Trefftz, 18°')\n",
    "plt.grid()\n",
    "plt.axis('equal')\n",
    "plt.tight_layout()\n",
    "plt.legend(loc=1)\n",
    "plt.savefig('geom1.pdf')"
   ]
  },
  {
   "cell_type": "code",
   "execution_count": 119,
   "metadata": {
    "collapsed": false
   },
   "outputs": [
    {
     "data": {
      "image/png": "[encoded data removed]",
      "text/plain": [
       "<matplotlib.figure.Figure at 0x1144c7898>"
      ]
     },
     "metadata": {},
     "output_type": "display_data"
    },
    {
     "data": {
      "image/png": "[encoded data removed]",
      "text/plain": [
       "<matplotlib.figure.Figure at 0x114f8cf98>"
      ]
     },
     "metadata": {},
     "output_type": "display_data"
    }
   ],
   "source": [
    "# Inputs\n",
    "method = 'J'\n",
    "alphad = 10 # angle of attack\n",
    "betad = 18 # trailing edge angle for KT-airfoil\n",
    "m1oc = moc_J[1,0] # m1/c \n",
    "m2oc = moc_J[1,1] # m2/c\n",
    "R = 1.\n",
    "\n",
    "# Calc\n",
    "z, z_airfoil, ua, va, Cp, Cl = airfoil(method, m1oc,m2oc, alphad, betad, N=2**6, R=1)\n",
    "\n",
    "\n",
    "# Inputs\n",
    "method = 'KT'\n",
    "alphad = 10 # angle of attack\n",
    "betad = 18 # trailing edge angle for KT-airfoil\n",
    "m1oc = moc_KT[1,0] # m1/c \n",
    "m2oc = moc_KT[1,1] # m2/c\n",
    "R = 1.\n",
    "\n",
    "# Calc\n",
    "z2, z_airfoil2, ua2, va2, Cp2, Cl2 = airfoil(method, m1oc,m2oc, alphad, betad, N=2**6, R=1)\n",
    "\n",
    "plt.figure()\n",
    "plt.title('t/chord=20%, h/chord=10%, alpha=10°')\n",
    "plt.plot(z_airfoil.real, -Cp,\n",
    "        '-bo', lw=2, label='J')\n",
    "plt.plot(z_airfoil2.real, -Cp2,\n",
    "        '-ro', lw=2, label='KT, beta=18°')         \n",
    "plt.grid()\n",
    "plt.xlim(-2,2)\n",
    "plt.ylim(-1.5,5)\n",
    "plt.legend(loc=1)\n",
    "plt.ylabel('Pressure coeff. -Cp')\n",
    "plt.xlabel('Re(z)')\n",
    "plt.tight_layout()\n",
    "plt.savefig('pres2_dist.pdf')\n",
    "\n",
    "plt.figure()\n",
    "plt.title('Airfoil geometry - t/chord=20%, h/chord=10%')\n",
    "plt.plot(z_airfoil.real, z_airfoil.imag,'-bo',label='Joukowski')\n",
    "plt.plot(z_airfoil2.real, z_airfoil2.imag, '-ro',label='Karman-Trefftz, 18°')\n",
    "plt.grid()\n",
    "plt.axis('equal')\n",
    "plt.tight_layout()\n",
    "plt.legend(loc=1)\n",
    "plt.savefig('geom2.pdf')"
   ]
  },
  {
   "cell_type": "code",
   "execution_count": null,
   "metadata": {
    "collapsed": true
   },
   "outputs": [],
   "source": []
  },
  {
   "cell_type": "code",
   "execution_count": null,
   "metadata": {
    "collapsed": true
   },
   "outputs": [],
   "source": []
  },
  {
   "cell_type": "code",
   "execution_count": null,
   "metadata": {
    "collapsed": true
   },
   "outputs": [],
   "source": []
  },
  {
   "cell_type": "code",
   "execution_count": null,
   "metadata": {
    "collapsed": true
   },
   "outputs": [],
   "source": []
  },
  {
   "cell_type": "code",
   "execution_count": null,
   "metadata": {
    "collapsed": true
   },
   "outputs": [],
   "source": []
  },
  {
   "cell_type": "code",
   "execution_count": null,
   "metadata": {
    "collapsed": true
   },
   "outputs": [],
   "source": []
  },
  {
   "cell_type": "code",
   "execution_count": null,
   "metadata": {
    "collapsed": true
   },
   "outputs": [],
   "source": []
  },
  {
   "cell_type": "code",
   "execution_count": null,
   "metadata": {
    "collapsed": true
   },
   "outputs": [],
   "source": []
  },
  {
   "cell_type": "code",
   "execution_count": null,
   "metadata": {
    "collapsed": true
   },
   "outputs": [],
   "source": []
  },
  {
   "cell_type": "code",
   "execution_count": null,
   "metadata": {
    "collapsed": true
   },
   "outputs": [],
   "source": []
  },
  {
   "cell_type": "code",
   "execution_count": null,
   "metadata": {
    "collapsed": true
   },
   "outputs": [],
   "source": []
  },
  {
   "cell_type": "code",
   "execution_count": null,
   "metadata": {
    "collapsed": true
   },
   "outputs": [],
   "source": []
  },
  {
   "cell_type": "code",
   "execution_count": null,
   "metadata": {
    "collapsed": true
   },
   "outputs": [],
   "source": []
  },
  {
   "cell_type": "code",
   "execution_count": null,
   "metadata": {
    "collapsed": true
   },
   "outputs": [],
   "source": []
  },
  {
   "cell_type": "code",
   "execution_count": null,
   "metadata": {
    "collapsed": true
   },
   "outputs": [],
   "source": []
  },
  {
   "cell_type": "code",
   "execution_count": null,
   "metadata": {
    "collapsed": true
   },
   "outputs": [],
   "source": [
    "# Inputs\n",
    "method = 'J'\n",
    "alphad = 10 # angle of attack\n",
    "betad = 18 # trailing edge angle for KT-airfoil\n",
    "m1oc = moc_J[0,0] # m1/c \n",
    "m2oc = moc_J[0,1] # m2/c\n",
    "R = 1.\n",
    "\n",
    "theta_str = str(alphad)+'°'\n",
    "alpha = alphad*np.pi/180\n",
    "c = R/np.sqrt(m2oc**2+(1+m1oc)**2)\n",
    "c2 = c**2\n",
    "chord = 4*c\n",
    "m1 = m1oc*c\n",
    "m2 = m2oc*c\n",
    "s = -m1 + 1j*m2\n",
    "\n",
    "# Circulation\n",
    "Gamma = 4*np.pi*c*(1+m1oc)*np.sin(alpha+m2oc)\n",
    "Cl = 2*Gamma/chord\n",
    "Cl_str = str(Cl)\n",
    "k = Gamma/2/np.pi\n",
    "\n",
    "# Aerodynamic potential \n",
    "f = np.exp(-1j*alpha)*(z-s) + (np.exp(1j*alpha)*R**2)/(z-s) + 1j*k*np.log(z-s)\n",
    "\n",
    "# Joukowski transformation on grid\n",
    "J = z+c2/z \n",
    "\n",
    "# Velocity field around circle\n",
    "dfdz = np.exp(-1j*alpha) - (np.exp(1j*alpha)*R**2)/(z-s)**2 + 1j*k/(z-s)\n",
    "u1 = dfdz.real\n",
    "v1 = -dfdz.imag\n",
    "\n",
    "# Velocity field around airfoil\n",
    "W = dfdz/transform(method, z, c, n_kt=2, derivative=True)\n",
    "u = W.real\n",
    "v = - W.imag\n",
    "\n",
    "# Flow along contour of Circle and  Airfoil\n",
    "angle = np.linspace(0, 2*np.pi, N)\n",
    "z_circle = R*(np.cos(angle)+1j*np.sin(angle)) + s\n",
    "z_airfoil = z_circle+c2/z_circle\n",
    "xc=z_airfoil.real\n",
    "yc=z_airfoil.imag\n",
    "\n",
    "# Circle\n",
    "dfcdz = np.exp(-1j*alpha) - (np.exp(1j*alpha)*R**2)/(z_circle-s)**2 + 1j*k/(z_circle-s)\n",
    "uc1 = dfcdz.real\n",
    "vc1 = -dfcdz.imag\n",
    "\n",
    "# Airfoil\n",
    "Wa = dfcdz/(1.-c2/z_circle**2)\n",
    "ua = Wa.real\n",
    "va = - Wa.imag\n",
    "\n",
    "# Pressure\n"
   ]
  },
  {
   "cell_type": "code",
   "execution_count": null,
   "metadata": {
    "collapsed": true
   },
   "outputs": [],
   "source": []
  },
  {
   "cell_type": "code",
   "execution_count": null,
   "metadata": {
    "collapsed": true
   },
   "outputs": [],
   "source": []
  },
  {
   "cell_type": "code",
   "execution_count": null,
   "metadata": {
    "collapsed": true
   },
   "outputs": [],
   "source": []
  },
  {
   "cell_type": "code",
   "execution_count": null,
   "metadata": {
    "collapsed": true
   },
   "outputs": [],
   "source": []
  }
 ],
 "metadata": {
  "anaconda-cloud": {},
  "kernelspec": {
   "display_name": "Python [Root]",
   "language": "python",
   "name": "Python [Root]"
  },
  "language_info": {
   "codemirror_mode": {
    "name": "ipython",
    "version": 3
   },
   "file_extension": ".py",
   "mimetype": "text/x-python",
   "name": "python",
   "nbconvert_exporter": "python",
   "pygments_lexer": "ipython3",
   "version": "3.5.2"
  }
 },
 "nbformat": 4,
 "nbformat_minor": 0
}
