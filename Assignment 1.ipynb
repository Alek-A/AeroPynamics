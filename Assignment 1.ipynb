{
 "cells": [
  {
   "cell_type": "markdown",
   "metadata": {
    "deletable": true,
    "editable": true
   },
   "source": [
    "# Assignment 1\n",
    "46110 Basic Aerodynamics  \n",
    "\n",
    "s163008 Martin Simon  \n",
    "s134166 Aleksander Andersen\n",
    "\n",
    "Python Notebook"
   ]
  },
  {
   "cell_type": "code",
   "execution_count": 1,
   "metadata": {
    "collapsed": true,
    "deletable": true,
    "editable": true
   },
   "outputs": [],
   "source": [
    "# Modules\n",
    "import numpy as np\n",
    "from scipy import interpolate\n",
    "import matplotlib.pyplot as plt\n",
    "%matplotlib inline"
   ]
  },
  {
   "cell_type": "markdown",
   "metadata": {
    "deletable": true,
    "editable": true
   },
   "source": [
    "# Task A\n",
    "Determine $\\dfrac{m_1}{c}$ and $\\dfrac{m_2}{c}$ for the Joukowski airfoil with relative (to chord) thicknesses of 10%, 20% and 30% and maximum camber 0% and 10%.  \n",
    "Also try to do this with the linearized approach from the book."
   ]
  },
  {
   "cell_type": "markdown",
   "metadata": {
    "deletable": true,
    "editable": true
   },
   "source": [
    "Numerical approach:  \n",
    "Transformation: $z = \\zeta+\\dfrac{c^2}{\\zeta}$  \n"
   ]
  },
  {
   "cell_type": "code",
   "execution_count": 2,
   "metadata": {
    "collapsed": true,
    "deletable": true,
    "editable": true
   },
   "outputs": [],
   "source": [
    "# Parameters\n",
    "alphad = 0 # angle of attack (for D and E)\n",
    "m1oc = 0. # m1/c \n",
    "m2oc = 0. # m2/c\n",
    "R = 1. # Radius of transformation circle\n",
    "\n",
    "theta_str = str(alphad)+'°'\n",
    "alpha = alphad*np.pi/180\n",
    "c = R/np.sqrt(m2oc**2+(1+m1oc)**2)\n",
    "c2 = c**2\n",
    "chord = 4*c\n",
    "m1 = m1oc*c\n",
    "m2 = m2oc*c\n",
    "s = -m1 + 1j*m2\n",
    "\n",
    "# Targets\n",
    "toc = np.array([0.1, 0.2, 0.3]) # max relative thickness\n",
    "hoc = np.array([0, 0.1]) # max relative camber"
   ]
  },
  {
   "cell_type": "markdown",
   "metadata": {
    "deletable": true,
    "editable": true
   },
   "source": [
    "Max thickness: $\\dfrac{t}{c}\\bigg) _{max}$  \n",
    "Max camber: $\\dfrac{h}{c}\\bigg) _{max}$  \n",
    "Just take thickness as be the difference in y-values so $t=y_u-y_l$  \n",
    "With the camber line: $h = \\dfrac{y_y+y_l}{2}$"
   ]
  },
  {
   "cell_type": "code",
   "execution_count": 8,
   "metadata": {
    "collapsed": true,
    "deletable": true,
    "editable": true
   },
   "outputs": [],
   "source": [
    "N = 2**9 # EVEN number\n",
    "x_start, x_end = -5.0, 5.0        # boundaries for x-dir.\n",
    "y_start, y_end = -5.0, 5.0        # boundaries for y-dir.\n",
    "x_ar = np.linspace(x_start, x_end, N)    #\n",
    "y_ar = np.linspace(y_start, y_end, N)\n",
    "x, y = np.meshgrid(x_ar,y_ar)               # meshes grid\n",
    "\n",
    "# Complex mesh plane\n",
    "z = x+1j*y\n",
    "\n",
    "# Exclusion of points inside circle\n",
    "for i in range(N):\n",
    "    for j in range(N):\n",
    "        if abs(z[i,j])<= (R-5e-3):\n",
    "            z[i,j] = complex(float('nan'),float('nan'))\n",
    "#z = z[None,:,:]"
   ]
  },
  {
   "cell_type": "code",
   "execution_count": 14,
   "metadata": {
    "collapsed": false,
    "deletable": true,
    "editable": true,
    "scrolled": false
   },
   "outputs": [],
   "source": [
    "M1 = 50\n",
    "M2 = 50\n",
    "n_tests = int(M1*M2) # Number of tests\n",
    "\n",
    "# Various values for m1/c and m2/c\n",
    "m1oc = np.linspace(0, 0.4, M1) \n",
    "m2oc = np.linspace(0, 0.4, M2)\n",
    "\n",
    "## Testing the different values\n",
    "\n",
    "# Empty array to fill in\n",
    "r_t = np.array([]) # max relative thickness\n",
    "r_c = np.array([]) # max relative camber\n",
    "r_m1oc = np.array([]) # m1oc value\n",
    "r_m2oc = np.array([]) # m2oc value\n",
    "\n",
    "angle = np.linspace(0, 2*np.pi, N) \n",
    "\n",
    "# Actual testing\n",
    "for i in range(M1):\n",
    "    for j in range(M2):\n",
    "        c = R/np.sqrt(m2oc[j]**2+(1+m1oc[i])**2)\n",
    "        c2 = c**2\n",
    "        m1 = m1oc[i]*c\n",
    "        m2 = m2oc[j]*c\n",
    "        s = -m1 + 1j*m2 # center of circle in zeta\n",
    "        #J = z+c2/z # Joukowski transformation of all points\n",
    "\n",
    "\n",
    "        \n",
    "        # coord. for circle periphery\n",
    "        z_circle = R*(np.cos(angle)+1j*np.sin(angle)) + s\n",
    "        \n",
    "        # coord. for airfoil periphery (J-transform of circle)\n",
    "        z_airfoil = z_circle+c2/z_circle\n",
    "        \n",
    "        chord = np.max(z_airfoil.real) - np.min(z_airfoil.real)\n",
    "        \n",
    "        # Upper part of airfoil (from right to left)\n",
    "        leftMostPoint = np.argmin(z_airfoil.real)\n",
    "        za_upper = z_airfoil[:(leftMostPoint-1)]\n",
    "        za_upper = za_upper[::-1] # Reversing array order\n",
    "        \n",
    "        # Lower part of airfoil (left to right)\n",
    "        za_lower = z_airfoil[(int(leftMostPoint)+1):]\n",
    "\n",
    "        # Interpolation functions for upper and lower airfoil curve\n",
    "        fu = interpolate.interp1d(za_upper.real,za_upper.imag, kind='cubic',bounds_error=False)\n",
    "        fl = interpolate.interp1d(za_lower.real,za_lower.imag, kind='cubic',bounds_error=False)\n",
    "        \n",
    "        # Limit values for interpolation.\n",
    "        # Edge values are removed to avoid any errors\n",
    "        lim1 = np.min( z_airfoil.real )*0.95\n",
    "        lim2 = np.max( z_airfoil.real )*0.95\n",
    "        # Evaluation points\n",
    "        span = np.linspace(lim1,lim2,200)\n",
    "        \n",
    "        \n",
    "        # Finding max relative thickness\n",
    "        max_t = np.max( (fu(span) - fl(span))/chord )\n",
    "        max_camber = np.max( (fu(span)+fl(span))/2 )\n",
    "        \n",
    "        # Save result\n",
    "        r_t = np.append(r_t, max_t)\n",
    "        r_c = np.append(r_c, max_camber)\n",
    "        r_m1oc = np.append(r_m1oc, m1oc[i])\n",
    "        r_m2oc = np.append(r_m2oc, m2oc[j])"
   ]
  },
  {
   "cell_type": "code",
   "execution_count": null,
   "metadata": {
    "collapsed": true
   },
   "outputs": [],
   "source": [
    "np.savetxt('maxRelThickness.txt',r_t)\n",
    "np.savetxt('maxRelCamber.txt',r_c)\n",
    "np.savetxt('m1oc.txt',r_m1oc)\n",
    "np.savetxt('m2oc.txt',r_m2oc)"
   ]
  },
  {
   "cell_type": "code",
   "execution_count": 85,
   "metadata": {
    "collapsed": false
   },
   "outputs": [
    {
     "data": {
      "image/png": "[encoded data removed]",
      "text/plain": [
       "<matplotlib.figure.Figure at 0x7f690ea03710>"
      ]
     },
     "metadata": {},
     "output_type": "display_data"
    },
    {
     "data": {
      "image/png": "[encoded data removed]",
      "text/plain": [
       "<matplotlib.figure.Figure at 0x7f690e6faa10>"
      ]
     },
     "metadata": {},
     "output_type": "display_data"
    }
   ],
   "source": [
    "plt.figure()\n",
    "plt.plot(r_t,'-b')\n",
    "plt.xlabel('Point #')\n",
    "plt.ylabel('Max relative thickness, t/chord')\n",
    "plt.grid()\n",
    "plt.tight_layout()\n",
    "plt.savefig('01_J_rt.pdf')\n",
    "\n",
    "plt.figure()\n",
    "plt.plot(r_c,'-r')\n",
    "plt.xlabel('Point #')\n",
    "plt.ylabel('Max relative camber, h/chord')\n",
    "plt.grid()\n",
    "plt.tight_layout()\n",
    "plt.savefig('02_J_rh.pdf')"
   ]
  },
  {
   "cell_type": "markdown",
   "metadata": {},
   "source": [
    "### Results for part A"
   ]
  },
  {
   "cell_type": "code",
   "execution_count": 69,
   "metadata": {
    "collapsed": false
   },
   "outputs": [
    {
     "name": "stdout",
     "output_type": "stream",
     "text": [
      "550\n",
      "('t:', 0.1068542678025813)\n",
      "('h:', 5.8286708792820718e-16)\n",
      "m1oc: 0.089796 , m2oc: 0.000000\n"
     ]
    }
   ],
   "source": [
    "# Relative camber 0%\n",
    "# Relative thickness 10%\n",
    "camberVal = 0\n",
    "thickVal = 0.1\n",
    "for i in range(r_t.size):\n",
    "    if r_c[i] < 0.0001:\n",
    "        if thickVal+0.01 > r_t[i] >= thickVal:\n",
    "            print(i)\n",
    "            print('t:',r_t[i])\n",
    "            print('h:',r_c[i])\n",
    "            print('m1oc: {0:2f} , m2oc: {1:2f}'.format(r_m1oc[i], r_m2oc[i]))"
   ]
  },
  {
   "cell_type": "code",
   "execution_count": 83,
   "metadata": {
    "collapsed": false
   },
   "outputs": [
    {
     "name": "stdout",
     "output_type": "stream",
     "text": [
      "1150\n",
      "('t:', 0.20406497358639741)\n",
      "('h:', 1.2490009027033011e-15)\n",
      "m1oc: 0.187755 , m2oc: 0.000000\n"
     ]
    }
   ],
   "source": [
    "# Relative camber 0%\n",
    "# Relative thickness 20%\n",
    "camberVal = 0\n",
    "thickVal = 0.2\n",
    "for i in range(r_t.size):\n",
    "    if r_c[i]<0.0001:\n",
    "        if thickVal+0.01 > r_t[i] >= thickVal:\n",
    "            print(i)\n",
    "            print('t:',r_t[i])\n",
    "            print('h:',r_c[i])\n",
    "            print('m1oc: {0:2f} , m2oc: {1:2f}'.format(r_m1oc[i], r_m2oc[i]))"
   ]
  },
  {
   "cell_type": "code",
   "execution_count": 72,
   "metadata": {
    "collapsed": false
   },
   "outputs": [
    {
     "name": "stdout",
     "output_type": "stream",
     "text": [
      "1900\n",
      "('t:', 0.30325230480908999)\n",
      "('h:', 1.8318679906315083e-15)\n",
      "m1oc: 0.310204 , m2oc: 0.000000\n",
      "1950\n",
      "('t:', 0.3091254624261483)\n",
      "('h:', 1.5543122344752192e-15)\n",
      "m1oc: 0.318367 , m2oc: 0.000000\n"
     ]
    }
   ],
   "source": [
    "# Relative camber 0%\n",
    "# Relative thickness 30%\n",
    "camberVal = 0\n",
    "thickVal = 0.3\n",
    "for i in range(r_t.size):\n",
    "    if r_c[i] < 0.0001:\n",
    "        if thickVal+0.01 > r_t[i] >= thickVal:\n",
    "            print(i)\n",
    "            print('t:',r_t[i])\n",
    "            print('h:',r_c[i])\n",
    "            print('m1oc: {0:2f} , m2oc: {1:2f}'.format(r_m1oc[i], r_m2oc[i]))"
   ]
  },
  {
   "cell_type": "code",
   "execution_count": 73,
   "metadata": {
    "collapsed": false,
    "deletable": true,
    "editable": true
   },
   "outputs": [
    {
     "name": "stdout",
     "output_type": "stream",
     "text": [
      "557\n",
      "('t:', 0.10707065173405557)\n",
      "('h:', 0.096752620100888073)\n",
      "m1oc: 0.089796 , m2oc: 0.057143\n"
     ]
    }
   ],
   "source": [
    "# Relative camber 10%\n",
    "# Relative thickness 10%\n",
    "camberVal = 0.1\n",
    "thickVal = 0.1\n",
    "for i in range(r_t.size):\n",
    "    if 0.09 < r_c[i]<= 0.11:\n",
    "        if thickVal+0.01 > r_t[i] >= thickVal:\n",
    "            print(i)\n",
    "            print('t:',r_t[i])\n",
    "            print('h:',r_c[i])\n",
    "            print('m1oc: {0:2f} , m2oc: {1:2f}'.format(r_m1oc[i], r_m2oc[i]))"
   ]
  },
  {
   "cell_type": "code",
   "execution_count": 74,
   "metadata": {
    "collapsed": false
   },
   "outputs": [
    {
     "name": "stdout",
     "output_type": "stream",
     "text": [
      "1158\n",
      "('t:', 0.20450547067877153)\n",
      "('h:', 0.094812283417392326)\n",
      "m1oc: 0.187755 , m2oc: 0.065306\n",
      "1159\n",
      "('t:', 0.20461843322808557)\n",
      "('h:', 0.10662114741983927)\n",
      "m1oc: 0.187755 , m2oc: 0.073469\n"
     ]
    }
   ],
   "source": [
    "# Relative camber 10%\n",
    "# Relative thickness 20%\n",
    "camberVal = 0.1\n",
    "thickVal = 0.2\n",
    "for i in range(r_t.size):\n",
    "    if 0.09< r_c[i]<= 0.11:\n",
    "        if thickVal+0.01 > r_t[i] >= thickVal:\n",
    "            print(i)\n",
    "            print('t:',r_t[i])\n",
    "            print('h:',r_c[i])\n",
    "            print('m1oc: {0:2f} , m2oc: {1:2f}'.format(r_m1oc[i], r_m2oc[i]))"
   ]
  },
  {
   "cell_type": "code",
   "execution_count": 75,
   "metadata": {
    "collapsed": false
   },
   "outputs": [
    {
     "name": "stdout",
     "output_type": "stream",
     "text": [
      "1909\n",
      "('t:', 0.3038956672400574)\n",
      "('h:', 0.090537794651197628)\n",
      "m1oc: 0.310204 , m2oc: 0.073469\n",
      "1910\n",
      "('t:', 0.30404176827893725)\n",
      "('h:', 0.100560583370397)\n",
      "m1oc: 0.310204 , m2oc: 0.081633\n",
      "1960\n",
      "('t:', 0.30991926193122193)\n",
      "('h:', 0.099558963993559985)\n",
      "m1oc: 0.318367 , m2oc: 0.081633\n"
     ]
    }
   ],
   "source": [
    "# Relative camber 10%\n",
    "# Relative thickness 30%\n",
    "camberVal = 0.1\n",
    "thickVal = 0.3\n",
    "for i in range(r_t.size):\n",
    "    if 0.09< r_c[i]<= 0.11:\n",
    "        if thickVal+0.01 > r_t[i] >= thickVal:\n",
    "            print(i)\n",
    "            print('t:',r_t[i])\n",
    "            print('h:',r_c[i])\n",
    "            print('m1oc: {0:2f} , m2oc: {1:2f}'.format(r_m1oc[i], r_m2oc[i]))"
   ]
  },
  {
   "cell_type": "code",
   "execution_count": null,
   "metadata": {
    "collapsed": true
   },
   "outputs": [],
   "source": []
  },
  {
   "cell_type": "code",
   "execution_count": null,
   "metadata": {
    "collapsed": true
   },
   "outputs": [],
   "source": []
  },
  {
   "cell_type": "code",
   "execution_count": null,
   "metadata": {
    "collapsed": true
   },
   "outputs": [],
   "source": []
  },
  {
   "cell_type": "code",
   "execution_count": null,
   "metadata": {
    "collapsed": true
   },
   "outputs": [],
   "source": []
  },
  {
   "cell_type": "markdown",
   "metadata": {
    "deletable": true,
    "editable": true
   },
   "source": [
    "### A) Results\n",
    "\n",
    "$t_{rel, max}$: 0.10005 - $m/c$= (0.081, 0.200)  \n",
    "$t_{rel, max}$: 0.09993 - $m/c$= (0.083, 0.044)  \n",
    "$t_{rel, max}$: 0.10009 - $m/c$= (0.083, 0.067)  \n",
    "  \n"
   ]
  },
  {
   "cell_type": "code",
   "execution_count": null,
   "metadata": {
    "collapsed": false,
    "deletable": true,
    "editable": true
   },
   "outputs": [],
   "source": [
    "a = np.array([])"
   ]
  },
  {
   "cell_type": "code",
   "execution_count": null,
   "metadata": {
    "collapsed": false,
    "deletable": true,
    "editable": true
   },
   "outputs": [],
   "source": [
    "a = np.append(np.array([1,2,3]),a,axis=1)"
   ]
  },
  {
   "cell_type": "code",
   "execution_count": null,
   "metadata": {
    "collapsed": false,
    "deletable": true,
    "editable": true
   },
   "outputs": [],
   "source": [
    "a"
   ]
  },
  {
   "cell_type": "code",
   "execution_count": null,
   "metadata": {
    "collapsed": false,
    "deletable": true,
    "editable": true
   },
   "outputs": [],
   "source": [
    "plt.plot(za_upper.real,za_upper.imag,'ro')\n",
    "plt.plot(za_lower.real,za_lower.imag,'bo')"
   ]
  },
  {
   "cell_type": "code",
   "execution_count": null,
   "metadata": {
    "collapsed": false,
    "deletable": true,
    "editable": true
   },
   "outputs": [],
   "source": [
    "plt.plot(z_circle.real, z_circle.imag)"
   ]
  },
  {
   "cell_type": "code",
   "execution_count": null,
   "metadata": {
    "collapsed": false,
    "deletable": true,
    "editable": true
   },
   "outputs": [],
   "source": [
    "plt.plot(za_upper.real-za_lower.real)"
   ]
  },
  {
   "cell_type": "code",
   "execution_count": null,
   "metadata": {
    "collapsed": false,
    "deletable": true,
    "editable": true
   },
   "outputs": [],
   "source": [
    "plt.plot(z_airfoil.real, z_airfoil.imag,'o')"
   ]
  },
  {
   "cell_type": "code",
   "execution_count": null,
   "metadata": {
    "collapsed": true,
    "deletable": true,
    "editable": true
   },
   "outputs": [],
   "source": [
    "\n",
    "# Print and plot if within tolerance.\n",
    "ind = np.argmax((fu(span) - fl(span))/chord) # index in span\n",
    "print('trel: {0:.5f} - m/c= ({1:.3f}, {2:.3f})'.format(max_trel, m1oc[i], m2oc[j]))\n",
    "plt.plot(span,fu(span),'.-b')\n",
    "plt.plot(span,fl(span),'.-r')\n",
    "plt.plot(span[ind],fu(span[ind]),'ro',ms=5)\n",
    "plt.plot(span[ind],fl(span[ind]),'bo',ms=5)"
   ]
  }
 ],
 "metadata": {
  "anaconda-cloud": {},
  "kernelspec": {
   "display_name": "Python 2",
   "language": "python",
   "name": "python2"
  },
  "language_info": {
   "codemirror_mode": {
    "name": "ipython",
    "version": 2
   },
   "file_extension": ".py",
   "mimetype": "text/x-python",
   "name": "python",
   "nbconvert_exporter": "python",
   "pygments_lexer": "ipython2",
   "version": "2.7.12"
  }
 },
 "nbformat": 4,
 "nbformat_minor": 0
}
